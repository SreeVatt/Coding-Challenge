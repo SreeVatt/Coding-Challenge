{
 "cells": [
  {
   "cell_type": "markdown",
   "id": "b6962fcd",
   "metadata": {},
   "source": [
    "Linear Search"
   ]
  },
  {
   "cell_type": "code",
   "execution_count": 3,
   "id": "e20a4c37",
   "metadata": {},
   "outputs": [],
   "source": [
    "def linear_search(x,arr):\n",
    "    count=0\n",
    "    index=[]\n",
    "    for i in arr:\n",
    "        count+=1\n",
    "        if(i==x):\n",
    "            index.append(count)\n",
    "            \n",
    "        \n",
    "    return (index)\n",
    "            \n",
    "        "
   ]
  },
  {
   "cell_type": "code",
   "execution_count": 7,
   "id": "a6b038f7",
   "metadata": {},
   "outputs": [
    {
     "name": "stdout",
     "output_type": "stream",
     "text": [
      "58\n",
      "Index : [5]\n"
     ]
    }
   ],
   "source": [
    "a=int(input())\n",
    "list=[20,30,40,45,58,56,12,59]\n",
    "print(f\"Index : {(linear_search(a,list))}\")"
   ]
  },
  {
   "cell_type": "markdown",
   "id": "4b77eb61",
   "metadata": {},
   "source": [
    "Binary Search"
   ]
  },
  {
   "cell_type": "code",
   "execution_count": 35,
   "id": "ff1b7478",
   "metadata": {},
   "outputs": [],
   "source": [
    "def Binary_Search(x,arr,low,high):\n",
    "    if(high>=low):\n",
    "        mid=low+((high-low)//2)\n",
    "        print(high,mid,low)\n",
    "        if(arr[mid]==x):\n",
    "            return mid\n",
    "        elif (arr[mid]>x):\n",
    "            return Binary_Search(x,arr,low,mid-1)\n",
    "        else:\n",
    "            return Binary_Search(x,arr,mid+1,high)\n",
    "    else:\n",
    "        return -1\n",
    "        \n",
    "    \n",
    "            \n",
    "    \n",
    "    "
   ]
  },
  {
   "cell_type": "code",
   "execution_count": 36,
   "id": "344e93a1",
   "metadata": {},
   "outputs": [
    {
     "name": "stdout",
     "output_type": "stream",
     "text": [
      "9\n",
      "9 4 0\n",
      "3 1 0\n",
      "0 0 0\n",
      "Index : -1\n"
     ]
    }
   ],
   "source": [
    "a=int(input())\n",
    "arr=[10,20,25,30,35,36,65,69,82]\n",
    "print(f\"Index : {(Binary_Search(a,arr,0,len(arr)))}\")"
   ]
  },
  {
   "cell_type": "code",
   "execution_count": null,
   "id": "0878070c",
   "metadata": {},
   "outputs": [],
   "source": []
  },
  {
   "cell_type": "code",
   "execution_count": null,
   "id": "444089bd",
   "metadata": {},
   "outputs": [],
   "source": []
  }
 ],
 "metadata": {
  "kernelspec": {
   "display_name": "Python 3 (ipykernel)",
   "language": "python",
   "name": "python3"
  },
  "language_info": {
   "codemirror_mode": {
    "name": "ipython",
    "version": 3
   },
   "file_extension": ".py",
   "mimetype": "text/x-python",
   "name": "python",
   "nbconvert_exporter": "python",
   "pygments_lexer": "ipython3",
   "version": "3.11.5"
  }
 },
 "nbformat": 4,
 "nbformat_minor": 5
}
