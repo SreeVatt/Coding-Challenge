{
 "cells": [
  {
   "cell_type": "raw",
   "id": "a5d493c2",
   "metadata": {},
   "source": [
    "You are given an array of n integers, and your task is to find three values (at distinct positions) whose sum is x.\n",
    "Input\n",
    "The first input line has two integers n and x: the array size and the target sum.\n",
    "The second line has n integers a_1,a_2,\\dots,a_n: the array values.\n",
    "Output\n",
    "Print three integers: the positions of the values. If there are several solutions, you may print any of them. If there are no solutions, print IMPOSSIBLE.\n",
    "Constraints\n",
    "\n",
    "1 \\le n \\le 5000\n",
    "1 \\le x,a_i \\le 10^9\n",
    "\n",
    "Example\n",
    "Input:\n",
    "4 8\n",
    "2 7 5 1\n",
    "\n",
    "Output:\n",
    "1 3 4"
   ]
  },
  {
   "cell_type": "code",
   "execution_count": null,
   "id": "0974d18a",
   "metadata": {},
   "outputs": [],
   "source": [
    "def find_three_sum(n, x, arr):\n",
    "    indexed_arr = [(value, idx + 1) for idx, value in enumerate(arr)]\n",
    "    indexed_arr.sort() \n",
    "    \n",
    "    for i in range(n):\n",
    "        target = x - indexed_arr[i][0]  \n",
    "        left, right = i + 1, n - 1  \n",
    "        \n",
    "        while left < right:\n",
    "            current_sum = indexed_arr[left][0] + indexed_arr[right][0]\n",
    "            \n",
    "            if current_sum == target:\n",
    "                return indexed_arr[i][1], indexed_arr[left][1], indexed_arr[right][1]\n",
    "            elif current_sum < target:\n",
    "                left += 1\n",
    "            else:\n",
    "                right -= 1\n",
    "    \n",
    "    return \"IMPOSSIBLE\"\n",
    "\n",
    "n, x = map(int, input().split())\n",
    "arr = list(map(int, input().split()))\n",
    "\n",
    "result = find_three_sum(n, x, arr)\n",
    "if result == \"IMPOSSIBLE\":\n",
    "    print(result)\n",
    "else:\n",
    "    print(*result)\n"
   ]
  }
 ],
 "metadata": {
  "kernelspec": {
   "display_name": "Python 3 (ipykernel)",
   "language": "python",
   "name": "python3"
  },
  "language_info": {
   "codemirror_mode": {
    "name": "ipython",
    "version": 3
   },
   "file_extension": ".py",
   "mimetype": "text/x-python",
   "name": "python",
   "nbconvert_exporter": "python",
   "pygments_lexer": "ipython3",
   "version": "3.11.5"
  }
 },
 "nbformat": 4,
 "nbformat_minor": 5
}
