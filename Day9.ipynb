{
 "cells": [
  {
   "cell_type": "markdown",
   "id": "9a9c9385",
   "metadata": {},
   "source": [
    "#### Binary Convertion"
   ]
  },
  {
   "cell_type": "code",
   "execution_count": 1,
   "id": "3d70a711",
   "metadata": {},
   "outputs": [
    {
     "name": "stdout",
     "output_type": "stream",
     "text": [
      "0b1010\n"
     ]
    }
   ],
   "source": [
    "decimal_number = 10\n",
    "binary_string = bin(decimal_number)\n",
    "print(binary_string)"
   ]
  },
  {
   "cell_type": "code",
   "execution_count": 4,
   "id": "ba661c48",
   "metadata": {},
   "outputs": [
    {
     "name": "stdout",
     "output_type": "stream",
     "text": [
      "1010\n"
     ]
    }
   ],
   "source": [
    "decimal_number = 10\n",
    "binary_string = \"\"\n",
    "while decimal_number > 0:\n",
    "    remainder = decimal_number % 2\n",
    "    binary_string = str(remainder) + binary_string\n",
    "    decimal_number//= 2\n",
    "print(binary_string)  # Output: 1010"
   ]
  },
  {
   "cell_type": "code",
   "execution_count": 5,
   "id": "1d155ec6",
   "metadata": {},
   "outputs": [
    {
     "name": "stdout",
     "output_type": "stream",
     "text": [
      "1010\n"
     ]
    }
   ],
   "source": [
    "decimal_number = 10\n",
    "binary_string = format(decimal_number, 'b')\n",
    "print(binary_string)"
   ]
  },
  {
   "cell_type": "markdown",
   "id": "c3056f17",
   "metadata": {},
   "source": [
    "#### convertion of binary to decimal"
   ]
  },
  {
   "cell_type": "code",
   "execution_count": 9,
   "id": "9cb86f41",
   "metadata": {},
   "outputs": [
    {
     "name": "stdout",
     "output_type": "stream",
     "text": [
      "10\n"
     ]
    }
   ],
   "source": [
    "binary_string = \"1010\"\n",
    "decimal_number = int(binary_string, 2)\n",
    "print(decimal_number)"
   ]
  },
  {
   "cell_type": "code",
   "execution_count": 10,
   "id": "81662e27",
   "metadata": {},
   "outputs": [
    {
     "name": "stdout",
     "output_type": "stream",
     "text": [
      "10\n"
     ]
    }
   ],
   "source": [
    "binary_string = \"1010\"\n",
    "decimal_number = 0\n",
    "for i in range(len(binary_string)):\n",
    "    digit = int(binary_string[i])\n",
    "    decimal_number += digit * 2 ** (len(binary_string) - 1 - i)\n",
    "print(decimal_number)"
   ]
  },
  {
   "cell_type": "markdown",
   "id": "7528890c",
   "metadata": {},
   "source": [
    "#### adding two binary numbers and resulting their sum in binary"
   ]
  },
  {
   "cell_type": "code",
   "execution_count": 15,
   "id": "f5177b83",
   "metadata": {},
   "outputs": [
    {
     "name": "stdout",
     "output_type": "stream",
     "text": [
      "1011\n"
     ]
    }
   ],
   "source": [
    "num1=str(101)\n",
    "num2=str(110)\n",
    "result = \"\"\n",
    "carry = 0\n",
    "i = len(num1) - 1\n",
    "j = len(num2) - 1\n",
    "\n",
    "while i >= 0 or j >= 0 or carry == 1:\n",
    "    sum_digit = carry\n",
    "    if i >= 0:\n",
    "        sum_digit += int(num1[i])\n",
    "        i -= 1\n",
    "    if j >= 0:\n",
    "        sum_digit += int(num2[j])\n",
    "        j -= 1\n",
    "    carry = sum_digit // 2\n",
    "    result = str(sum_digit % 2) + result\n",
    "print( result)"
   ]
  },
  {
   "cell_type": "code",
   "execution_count": null,
   "id": "6ee90f18",
   "metadata": {},
   "outputs": [],
   "source": []
  }
 ],
 "metadata": {
  "kernelspec": {
   "display_name": "Python 3 (ipykernel)",
   "language": "python",
   "name": "python3"
  },
  "language_info": {
   "codemirror_mode": {
    "name": "ipython",
    "version": 3
   },
   "file_extension": ".py",
   "mimetype": "text/x-python",
   "name": "python",
   "nbconvert_exporter": "python",
   "pygments_lexer": "ipython3",
   "version": "3.11.5"
  }
 },
 "nbformat": 4,
 "nbformat_minor": 5
}
