{
 "cells": [
  {
   "cell_type": "markdown",
   "id": "05ab1d86",
   "metadata": {},
   "source": [
    "Linear Search is a simple searching algorithm that sequentially checks each element in an array until the target element is found or the end of the array is reached.\n",
    "\n",
    "Algorithm:\n",
    "\n",
    "Iterate through the array: Start from the first element and iterate through each element.\n",
    "Compare with target: Compare the current element with the target element.\n",
    "Return if found: If the current element is equal to the target, return its index.\n",
    "Continue searching: If the current element is not equal to the target, continue searching the next element.\n",
    "Return not found: If the end of the array is reached without finding the target, return a value indicating that the element is not found (e.g., -1).\n",
    "\n",
    "Time Complexity:   \n",
    "\n",
    "Worst case: O(n) (when the target element is not present or is the last element)\n",
    "Best case: O(1) (when the target element is the first element)\n",
    "Average case: O(n/2) (assuming the target element is equally likely to be anywhere in the array)\n",
    "Space Complexity:\n",
    "\n",
    "O(1) (constant space)\n",
    "Advantages:\n",
    "\n",
    "Simple to understand and implement.\n",
    "Can be used on unsorted arrays.\n",
    "Disadvantages:\n",
    "\n",
    "Inefficient for large arrays due to its linear time complexity.\n",
    "Not suitable for real-world applications where performance is critical."
   ]
  },
  {
   "cell_type": "code",
   "execution_count": 1,
   "id": "a14d505c",
   "metadata": {},
   "outputs": [
    {
     "name": "stdout",
     "output_type": "stream",
     "text": [
      "Element is present at index 3\n"
     ]
    }
   ],
   "source": [
    "def linear_search(arr, x):\n",
    "    n = len(arr)\n",
    "\n",
    "    # Traverse through all elements of array\n",
    "    for i in range(n):\n",
    "        if arr[i] == x:\n",
    "            return i\n",
    "\n",
    "    # Element not present\n",
    "    return -1\n",
    "\n",
    "# Example usage:\n",
    "arr = [2, 3, 4, 10, 40]\n",
    "x = 10\n",
    "\n",
    "# Function call\n",
    "result = linear_search(arr, x)\n",
    "\n",
    "if result != -1:\n",
    "    print(\"Element is present at index\", str(result))\n",
    "else:\n",
    "    print(\"Element is not present in array\")"
   ]
  },
  {
   "cell_type": "code",
   "execution_count": null,
   "id": "e8fed442",
   "metadata": {},
   "outputs": [],
   "source": []
  }
 ],
 "metadata": {
  "kernelspec": {
   "display_name": "Python 3 (ipykernel)",
   "language": "python",
   "name": "python3"
  },
  "language_info": {
   "codemirror_mode": {
    "name": "ipython",
    "version": 3
   },
   "file_extension": ".py",
   "mimetype": "text/x-python",
   "name": "python",
   "nbconvert_exporter": "python",
   "pygments_lexer": "ipython3",
   "version": "3.11.5"
  }
 },
 "nbformat": 4,
 "nbformat_minor": 5
}
