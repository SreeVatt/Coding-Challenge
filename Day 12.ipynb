{
 "cells": [
  {
   "cell_type": "markdown",
   "id": "70e30155",
   "metadata": {},
   "source": [
    "Bubble Sort is a simple sorting algorithm that repeatedly steps through the list, compares adjacent elements, and swaps them if they are in the wrong order. This process continues until the list is sorted.   \n",
    "\n",
    "Algorithm:\n",
    "\n",
    "Initialize: Set a flag swapped to True. This flag will indicate whether any swaps were made during the current pass.\n",
    "Outer loop: Repeat the following steps until the flag swapped becomes False, indicating that the list is sorted.\n",
    "Set swapped to False.\n",
    "Inner loop: Iterate through the list from the first element to the second-to-last element.\n",
    "Compare the current element with the next element.\n",
    "If the current element is greater than the next element, swap them and set swapped to True.   \n",
    "Return: The sorted list.\n",
    "\n",
    "Time Complexity:\n",
    "\n",
    "Worst case: O(n^2)\n",
    "Best case: O(n) (when the list is already sorted)\n",
    "Average case: O(n^2)\n",
    "Space Complexity:\n",
    "\n",
    "O(1) (in-place sorting)\n",
    "Advantages:\n",
    "\n",
    "Simple to understand and implement.\n",
    "Efficient for small lists.\n",
    "Disadvantages:\n",
    "\n",
    "Inefficient for large lists due to its quadratic time complexity.\n",
    "Not suitable for real-world applications where performance is critical."
   ]
  },
  {
   "cell_type": "code",
   "execution_count": 1,
   "id": "ec98fc72",
   "metadata": {},
   "outputs": [
    {
     "name": "stdout",
     "output_type": "stream",
     "text": [
      "Sorted array:\n",
      "[11, 12, 22, 25, 34, 64, 90]\n"
     ]
    }
   ],
   "source": [
    "def bubble_sort(arr):\n",
    "    n = len(arr)\n",
    "\n",
    "    # Traverse through all array elements\n",
    "    for i in range(n):\n",
    "\n",
    "        # Last i elements are already in place\n",
    "        for j in range(0, n - i - 1):\n",
    "\n",
    "            # Traverse the array from 0 to n-i-1\n",
    "            # Swap if the element found is greater than the next element\n",
    "            if arr[j] > arr[j + 1]:\n",
    "                arr[j], arr[j + 1] = arr[j + 1], arr[j]\n",
    "\n",
    "# Example usage:\n",
    "arr = [64, 34, 25, 12, 22, 11, 90]\n",
    "bubble_sort(arr)\n",
    "\n",
    "print(\"Sorted array:\")\n",
    "print(arr)"
   ]
  },
  {
   "cell_type": "code",
   "execution_count": null,
   "id": "7b410638",
   "metadata": {},
   "outputs": [],
   "source": []
  }
 ],
 "metadata": {
  "kernelspec": {
   "display_name": "Python 3 (ipykernel)",
   "language": "python",
   "name": "python3"
  },
  "language_info": {
   "codemirror_mode": {
    "name": "ipython",
    "version": 3
   },
   "file_extension": ".py",
   "mimetype": "text/x-python",
   "name": "python",
   "nbconvert_exporter": "python",
   "pygments_lexer": "ipython3",
   "version": "3.11.5"
  }
 },
 "nbformat": 4,
 "nbformat_minor": 5
}
