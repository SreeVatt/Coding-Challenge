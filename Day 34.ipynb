{
 "cells": [
  {
   "cell_type": "markdown",
   "id": "723445ba",
   "metadata": {},
   "source": [
    "Your task is to count the number of ways to construct sum n by throwing a dice one or more times. Each throw produces an outcome between 1 and  6.\n",
    "For example, if n=3, there are 4 ways:\n",
    "\n",
    "1+1+1\n",
    "1+2\n",
    "2+1\n",
    "3\n",
    "\n",
    "Input\n",
    "The only input line has an integer n.\n",
    "Output\n",
    "Print the number of ways modulo 10^9+7.\n",
    "Constraints\n",
    "\n",
    "1 \\le n \\le 10^6\n",
    "\n",
    "Example\n",
    "Input:\n",
    "3\n",
    "\n",
    "Output:\n",
    "4"
   ]
  },
  {
   "cell_type": "code",
   "execution_count": 16,
   "id": "5ee57e72",
   "metadata": {},
   "outputs": [
    {
     "name": "stdout",
     "output_type": "stream",
     "text": [
      "128\n"
     ]
    }
   ],
   "source": [
    "n=\n",
    "print(2**(n-1))\n",
    "    "
   ]
  },
  {
   "cell_type": "raw",
   "id": "4f682859",
   "metadata": {},
   "source": [
    "Consider a money system consisting of n coins. Each coin has a positive integer value. Your task is to produce a sum of money x using the available coins in such a way that the number of coins is minimal.\n",
    "For example, if the coins are \\{1,5,7\\} and the desired sum is 11, an optimal solution is 5+5+1 which requires 3 coins.\n",
    "Input\n",
    "The first input line has two integers n and x: the number of coins and the desired sum of money.\n",
    "The second line has n distinct integers c_1,c_2,\\dots,c_n: the value of each coin.\n",
    "Output\n",
    "Print one integer: the minimum number of coins. If it is not possible to produce the desired sum, print -1.\n",
    "Constraints\n",
    "\n",
    "1 \\le n \\le 100\n",
    "1 \\le x \\le 10^6\n",
    "1 \\le c_i \\le 10^6\n",
    "\n",
    "Example\n",
    "Input:\n",
    "3 11\n",
    "1 5 7\n",
    "\n",
    "Output:\n",
    "3\n"
   ]
  },
  {
   "cell_type": "code",
   "execution_count": 13,
   "id": "d08f6925",
   "metadata": {},
   "outputs": [
    {
     "name": "stdout",
     "output_type": "stream",
     "text": [
      "3 11\n",
      "1 5 7\n",
      "3\n"
     ]
    }
   ],
   "source": [
    "x,n=input().split()\n",
    "c=input().split()\n",
    "count=0\n",
    "c.sort()\n",
    "for i in c:\n",
    "    count+=int(x)//int(i)\n",
    "\n",
    "print(count)\n",
    "            "
   ]
  }
 ],
 "metadata": {
  "kernelspec": {
   "display_name": "Python 3 (ipykernel)",
   "language": "python",
   "name": "python3"
  },
  "language_info": {
   "codemirror_mode": {
    "name": "ipython",
    "version": 3
   },
   "file_extension": ".py",
   "mimetype": "text/x-python",
   "name": "python",
   "nbconvert_exporter": "python",
   "pygments_lexer": "ipython3",
   "version": "3.11.5"
  }
 },
 "nbformat": 4,
 "nbformat_minor": 5
}
