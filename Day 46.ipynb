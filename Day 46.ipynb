{
 "cells": [
  {
   "cell_type": "raw",
   "id": "29aedc6e",
   "metadata": {},
   "source": [
    "There are n books, and Kotivalo and Justiina are going to read them all. For each book, you know the time it takes to read it.\n",
    "They both read each book from beginning to end, and they cannot read a book at the same time. What is the minimum total time required?\n",
    "Input\n",
    "The first input line has an integer n: the number of books.\n",
    "The second line has n integers t_1,t_2,\\dots,t_n: the time required to read each book.\n",
    "Output\n",
    "Print one integer: the minimum total time.\n",
    "Constraints\n",
    "\n",
    "1 \\le n \\le 2 \\cdot 10^5\n",
    "1 \\le t_i \\le 10^9\n",
    "\n",
    "Example\n",
    "Input:\n",
    "3\n",
    "2 8 3\n",
    "\n",
    "Output:\n",
    "16"
   ]
  },
  {
   "cell_type": "code",
   "execution_count": null,
   "id": "72ec7fb5",
   "metadata": {},
   "outputs": [],
   "source": [
    "def minimum_total_time(n, books):\n",
    "    books.sort(reverse=True)\n",
    "    \n",
    "    time_kotivalo = 0\n",
    "    time_justiina = 0\n",
    "    \n",
    "    for time in books:\n",
    "        if time_kotivalo <= time_justiina:\n",
    "            time_kotivalo += time\n",
    "        else:\n",
    "            time_justiina += time\n",
    "    \n",
    "    return max(time_kotivalo, time_justiina)\n",
    "\n",
    "n = int(input())\n",
    "books = list(map(int, input().split()))\n",
    "\n",
    "print(minimum_total_time(n, books))\n"
   ]
  },
  {
   "cell_type": "code",
   "execution_count": null,
   "id": "d5776a12",
   "metadata": {},
   "outputs": [],
   "source": []
  }
 ],
 "metadata": {
  "kernelspec": {
   "display_name": "Python 3 (ipykernel)",
   "language": "python",
   "name": "python3"
  },
  "language_info": {
   "codemirror_mode": {
    "name": "ipython",
    "version": 3
   },
   "file_extension": ".py",
   "mimetype": "text/x-python",
   "name": "python",
   "nbconvert_exporter": "python",
   "pygments_lexer": "ipython3",
   "version": "3.11.5"
  }
 },
 "nbformat": 4,
 "nbformat_minor": 5
}
