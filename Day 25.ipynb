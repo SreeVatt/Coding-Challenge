{
 "cells": [
  {
   "cell_type": "raw",
   "id": "05779e6b",
   "metadata": {},
   "source": [
    "Q.1 – How do you swap two arrays ?\n",
    "Answer:\n",
    "\n",
    "Sample Input\n",
    "\n",
    "A[ ] = {21, 22, 23, 24}\n",
    "\n",
    "B[ ] = {25, 26, 27, 28}\n",
    "\n",
    "\n",
    "Sample Output\n",
    "\n",
    "A[ ] = {25, 26, 27, 28}\n",
    "\n",
    "B[ ] = {21, 22, 23, 24}\n",
    "\n"
   ]
  },
  {
   "cell_type": "code",
   "execution_count": 7,
   "id": "e07e2c84",
   "metadata": {},
   "outputs": [
    {
     "name": "stdout",
     "output_type": "stream",
     "text": [
      "[21, 22, 23, 24] [25, 26, 27, 28]\n"
     ]
    }
   ],
   "source": [
    "\n",
    "A=[25,26,27,28]\n",
    "B=[21,22,23,24]\n",
    "A,B=B,A\n",
    "print(A,B)"
   ]
  },
  {
   "cell_type": "raw",
   "id": "9ed0fad9",
   "metadata": {},
   "source": [
    "Write a program to arrange the given numbers to form the biggest number\n",
    "Answer: \n",
    "\n",
    "Sample Input\n",
    "\n",
    "{5, 67, 2, 88, 9, 76, 52, 4}"
   ]
  },
  {
   "cell_type": "code",
   "execution_count": 9,
   "id": "036c0235",
   "metadata": {},
   "outputs": [
    {
     "name": "stdout",
     "output_type": "stream",
     "text": [
      "[2, 4, 5, 9, 52, 67, 76, 88]\n"
     ]
    }
   ],
   "source": [
    "A=[5, 67, 2, 88, 9, 76, 52, 4]\n",
    "A.sort()\n",
    "print(A)"
   ]
  },
  {
   "cell_type": "raw",
   "id": "ee486ed6",
   "metadata": {},
   "source": [
    "Find the smallest and largest number in an Array\n",
    "Answer:\n",
    "\n",
    "Sample Input\n",
    "\n",
    "[3, 1, 56, 34, 12, 9, 98, 23, 4]"
   ]
  },
  {
   "cell_type": "code",
   "execution_count": 11,
   "id": "add60272",
   "metadata": {},
   "outputs": [
    {
     "name": "stdout",
     "output_type": "stream",
     "text": [
      "Max:98 \n",
      "Min:1\n"
     ]
    }
   ],
   "source": [
    "A=[3, 1, 56, 34, 12, 9, 98, 23, 4]\n",
    "print(f\"Max:{max(A)} \\nMin:{min(A)}\")"
   ]
  }
 ],
 "metadata": {
  "kernelspec": {
   "display_name": "Python 3 (ipykernel)",
   "language": "python",
   "name": "python3"
  },
  "language_info": {
   "codemirror_mode": {
    "name": "ipython",
    "version": 3
   },
   "file_extension": ".py",
   "mimetype": "text/x-python",
   "name": "python",
   "nbconvert_exporter": "python",
   "pygments_lexer": "ipython3",
   "version": "3.11.5"
  }
 },
 "nbformat": 4,
 "nbformat_minor": 5
}
