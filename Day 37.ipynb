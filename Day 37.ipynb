{
 "cells": [
  {
   "cell_type": "raw",
   "id": "7f1bacdb",
   "metadata": {},
   "source": [
    "There are n sticks with some lengths. Your task is to modify the sticks so that each stick has the same length.\n",
    "You can either lengthen and shorten each stick. Both operations cost x where x is the difference between the new and original length.\n",
    "What is the minimum total cost?\n",
    "Input\n",
    "The first input line contains an integer n: the number of sticks.\n",
    "Then there are n integers: p_1,p_2,\\ldots,p_n: the lengths of the sticks.\n",
    "Output\n",
    "Print one integer: the minimum total cost.\n",
    "Constraints\n",
    "\n",
    "1 \\le n \\le 2 \\cdot 10^5\n",
    "1 \\le p_i \\le 10^9\n",
    "\n",
    "Example\n",
    "Input:\n",
    "5\n",
    "2 3 1 2\n",
    "\n",
    "Output:\n",
    "5"
   ]
  },
  {
   "cell_type": "code",
   "execution_count": 2,
   "id": "8ca66c37",
   "metadata": {},
   "outputs": [
    {
     "name": "stdout",
     "output_type": "stream",
     "text": [
      "5\n"
     ]
    }
   ],
   "source": [
    "n=5\n",
    "s=[2,3,1,5,2]\n",
    "cost=0\n",
    "calc=[]\n",
    "for i in range(1,max(s)):\n",
    "    for j in s:\n",
    "        cost+=abs(j-i)\n",
    "    calc.append(cost)\n",
    "    cost=0\n",
    "print(min(calc))"
   ]
  },
  {
   "cell_type": "raw",
   "id": "0ac612f4",
   "metadata": {},
   "source": [
    "You have n coins with positive integer values. What is the smallest sum you cannot create using a subset of the coins?\n",
    "Input\n",
    "The first input line has an integer n: the number of coins.\n",
    "The second line has n integers x_1,x_2,\\dots,x_n: the value of each coin.\n",
    "Output\n",
    "Print one integer: the smallest coin sum.\n",
    "Constraints\n",
    "\n",
    "1 \\le n \\le 2 \\cdot 10^5\n",
    "1 \\le x_i \\le 10^9\n",
    "\n",
    "Example\n",
    "Input:\n",
    "5\n",
    "2 9 1 2 7\n",
    "\n",
    "Output:\n",
    "6"
   ]
  },
  {
   "cell_type": "code",
   "execution_count": 26,
   "id": "1bdd92ff",
   "metadata": {},
   "outputs": [
    {
     "name": "stdout",
     "output_type": "stream",
     "text": [
      "6\n"
     ]
    }
   ],
   "source": [
    "n=5\n",
    "c=[2,9,1,2,7]\n",
    "pos=[]\n",
    "avail=[]\n",
    "for i in range(n):\n",
    "    sumi=0\n",
    "    for j in range(n):\n",
    "        if(i!=j):\n",
    "            add=c[i]+c[j]\n",
    "            sumi+=c[j]\n",
    "            pos.append(sumi)\n",
    "            pos.append(add)\n",
    "        else:\n",
    "            pos.append(c[i])\n",
    "\n",
    "for i in range(1,max(pos)):\n",
    "    if(i not in pos):\n",
    "        print(i)\n",
    "        break\n",
    "\n"
   ]
  }
 ],
 "metadata": {
  "kernelspec": {
   "display_name": "Python 3 (ipykernel)",
   "language": "python",
   "name": "python3"
  },
  "language_info": {
   "codemirror_mode": {
    "name": "ipython",
    "version": 3
   },
   "file_extension": ".py",
   "mimetype": "text/x-python",
   "name": "python",
   "nbconvert_exporter": "python",
   "pygments_lexer": "ipython3",
   "version": "3.11.5"
  }
 },
 "nbformat": 4,
 "nbformat_minor": 5
}
