{
 "cells": [
  {
   "cell_type": "raw",
   "id": "89ce6be3",
   "metadata": {},
   "source": [
    "Given a string, your task is to determine the longest palindromic substring of the string. For example, the longest palindrome in aybabtu is bab.\n",
    "Input\n",
    "The only input line contains a string of length n. Each character is one of a–z.\n",
    "Output\n",
    "Print the longest palindrome in the string. If there are several solutions, you may print any of them.\n",
    "Constraints\n",
    "\n",
    "1 \\le n \\le 10^6\n",
    "\n",
    "Example\n",
    "Input:\n",
    "aybabtu\n",
    "\n",
    "Output:\n",
    "bab"
   ]
  },
  {
   "cell_type": "code",
   "execution_count": 53,
   "id": "465ff3eb",
   "metadata": {},
   "outputs": [
    {
     "name": "stdout",
     "output_type": "stream",
     "text": [
      "bab\n"
     ]
    }
   ],
   "source": [
    "\n",
    "def isPalindrome(s, i, j):\n",
    "    while i < j:\n",
    "        if s[i] != s[j]:\n",
    "            return False\n",
    "        i += 1\n",
    "        j -= 1\n",
    "    return True\n",
    "\n",
    "def countPS(s):\n",
    "    n = len(s)\n",
    "\n",
    "    res = []\n",
    "    for i in range(n):\n",
    "        for j in range(i + 1, n):\n",
    "          \n",
    "            if isPalindrome(s, i, j):\n",
    "                res.append(s[i:j+1])\n",
    "                \n",
    "                \n",
    "\n",
    "    return res\n",
    "\n",
    "s = \"aybabtu\"\n",
    "print(max(countPS(s)))"
   ]
  }
 ],
 "metadata": {
  "kernelspec": {
   "display_name": "Python 3 (ipykernel)",
   "language": "python",
   "name": "python3"
  },
  "language_info": {
   "codemirror_mode": {
    "name": "ipython",
    "version": 3
   },
   "file_extension": ".py",
   "mimetype": "text/x-python",
   "name": "python",
   "nbconvert_exporter": "python",
   "pygments_lexer": "ipython3",
   "version": "3.11.5"
  }
 },
 "nbformat": 4,
 "nbformat_minor": 5
}
