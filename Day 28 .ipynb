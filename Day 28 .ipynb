{
 "cells": [
  {
   "cell_type": "raw",
   "id": "bf8718f0",
   "metadata": {},
   "source": [
    "You are given a list of n integers, and your task is to calculate the number of distinct values in the list.\n",
    "Input\n",
    "The first input line has an integer n: the number of values.\n",
    "The second line has n integers x_1,x_2,\\dots,x_n.\n",
    "Output\n",
    "Print one integers: the number of distinct values.\n",
    "Constraints\n",
    "\n",
    "1 \\le n \\le 2 \\cdot 10^5\n",
    "1 \\le x_i \\le 10^9\n",
    "\n",
    "Example\n",
    "Input:\n",
    "5\n",
    "2 3 2 2 3\n",
    "\n",
    "Output:\n",
    "2"
   ]
  },
  {
   "cell_type": "code",
   "execution_count": 15,
   "id": "abbae637",
   "metadata": {},
   "outputs": [
    {
     "name": "stdout",
     "output_type": "stream",
     "text": [
      "5\n",
      "1\n",
      "2\n",
      "3\n",
      "1\n",
      "2\n",
      "4\n"
     ]
    }
   ],
   "source": [
    "x=[]\n",
    "n=int(input())\n",
    "count=0\n",
    "for i in range(n):\n",
    "    inp=int(input())\n",
    "    if (inp not in x):\n",
    "        count+=1\n",
    "    x.append(inp)\n",
    "print(count+1)"
   ]
  },
  {
   "cell_type": "raw",
   "id": "2b4b6170",
   "metadata": {},
   "source": [
    "There are n applicants and m free apartments. Your task is to distribute the apartments so that as many applicants as possible will get an apartment.\n",
    "Each applicant has a desired apartment size, and they will accept any apartment whose size is close enough to the desired size.\n",
    "Input\n",
    "The first input line has three integers n, m, and k: the number of applicants, the number of apartments, and the maximum allowed difference.\n",
    "The next line contains n integers a_1, a_2, \\ldots, a_n: the desired apartment size of each applicant. If the desired size of an applicant is x, he or she will accept any apartment whose size is between x-k and x+k.\n",
    "The last line contains m integers b_1, b_2, \\ldots, b_m: the size of each apartment.\n",
    "Output\n",
    "Print one integer: the number of applicants who will get an apartment.\n",
    "Constraints\n",
    "\n",
    "1 \\le n, m \\le 2 \\cdot 10^5\n",
    "0 \\le k \\le 10^9\n",
    "1 \\le a_i, b_i \\le 10^9\n",
    "\n",
    "Example\n",
    "Input:\n",
    "4 3 5\n",
    "60 45 80 60\n",
    "30 60 75\n",
    "\n",
    "Output:\n",
    "2"
   ]
  },
  {
   "cell_type": "code",
   "execution_count": 33,
   "id": "89a34e53",
   "metadata": {},
   "outputs": [
    {
     "name": "stdout",
     "output_type": "stream",
     "text": [
      "4 3 5\n",
      "60\n",
      "45\n",
      "80\n",
      "60\n",
      "30\n",
      "60\n",
      "75\n",
      "2\n"
     ]
    }
   ],
   "source": [
    "'''\n",
    "N-> Applicant\n",
    "M-> Free Appartment\n",
    "1>n,m,k->no of applicant,no of appartment, max allowed difference\n",
    "a1,a2,an->size of each appartment\n",
    "b1,b2,bm->the size of each appartment\n",
    "output->no of applicant gets the appartment\n",
    "\n",
    "45 60 60 80 \n",
    "30 60 75\n",
    "\n",
    "30-45=-15 X\n",
    "**remove(30)\n",
    "60-45=15 X\n",
    "remove (45)\n",
    "60-45=15 X\n",
    "80-45=35 X\n",
    "60-60=0 O\n",
    "remove(60)\n",
    "60-75=-15 X\n",
    "80-75=-5 O\n",
    "\n",
    "\n",
    "\n",
    "'''\n",
    "\n",
    "n,m,k=input().split()\n",
    "A=[]\n",
    "B=[]\n",
    "for i in range(int(n)):\n",
    "    a=int(input())\n",
    "    A.append(a)\n",
    "for i in range(int(m)):\n",
    "    a=int(input())\n",
    "    B.append(a)\n",
    "A.sort()\n",
    "B.sort()\n",
    "count=0\n",
    "for i in A:\n",
    "    for j in B:\n",
    "        if(i-j>=-(int(k)) and i-j<=int(k)):\n",
    "            count+=1\n",
    "            B.remove(j)\n",
    "\n",
    "print(count)\n",
    "    \n",
    "\n"
   ]
  },
  {
   "cell_type": "code",
   "execution_count": null,
   "id": "df53fd65",
   "metadata": {},
   "outputs": [],
   "source": [
    "4 3 5\n",
    "60\n",
    "45\n",
    "80\n",
    "60\n",
    "30\n",
    "60\n",
    "75"
   ]
  }
 ],
 "metadata": {
  "kernelspec": {
   "display_name": "Python 3 (ipykernel)",
   "language": "python",
   "name": "python3"
  },
  "language_info": {
   "codemirror_mode": {
    "name": "ipython",
    "version": 3
   },
   "file_extension": ".py",
   "mimetype": "text/x-python",
   "name": "python",
   "nbconvert_exporter": "python",
   "pygments_lexer": "ipython3",
   "version": "3.11.5"
  }
 },
 "nbformat": 4,
 "nbformat_minor": 5
}
