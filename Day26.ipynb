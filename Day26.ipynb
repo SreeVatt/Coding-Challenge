{
 "cells": [
  {
   "cell_type": "raw",
   "id": "f28daea0",
   "metadata": {},
   "source": [
    "How do you rotate a matrix by 90 degrees? Write a program."
   ]
  },
  {
   "cell_type": "code",
   "execution_count": 2,
   "id": "7876f971",
   "metadata": {},
   "outputs": [
    {
     "name": "stdout",
     "output_type": "stream",
     "text": [
      "Given Matrix\n",
      "1\t2\t3\t\n",
      "4\t5\t6\t\n",
      "7\t8\t9\t\n",
      "Rotated Matrix\n",
      "1\t4\t7\t\n",
      "2\t5\t8\t\n",
      "3\t6\t9\t\n"
     ]
    }
   ],
   "source": [
    "def Rotate(arr):\n",
    "    print(\"Rotated Matrix\")\n",
    "    for i in range(len(arr)):\n",
    "        for j in range(len(arr[0])):\n",
    "            print(arr[j][i],end='\\t')\n",
    "        print()\n",
    "\n",
    "def print_Matrix(arr):\n",
    "    print(\"Given Matrix\")\n",
    "    for i in range(len(arr)):\n",
    "        for j in range(len(arr[0])):\n",
    "            print(arr[i][j],end='\\t')\n",
    "        print()\n",
    "    \n",
    "arr=[[1,2,3],[4,5,6],[7,8,9]]\n",
    "print_Matrix(arr)\n",
    "Rotate(arr)"
   ]
  },
  {
   "cell_type": "raw",
   "id": "1ef40548",
   "metadata": {},
   "source": [
    "How do you find the missing characters to make a string pangram? Write a program"
   ]
  },
  {
   "cell_type": "code",
   "execution_count": 91,
   "id": "71f32d05",
   "metadata": {},
   "outputs": [
    {
     "name": "stdout",
     "output_type": "stream",
     "text": [
      "[]\n"
     ]
    }
   ],
   "source": [
    "alpha=[]\n",
    "for i in range(97,97+26):\n",
    "    alpha.append(chr(i))\n",
    "string='A quick movement of the enemy will jeopardize six gunboats'\n",
    "string=string.lower()\n",
    "\n",
    "for i in string:\n",
    "    for j in alpha:\n",
    "        if i==j:\n",
    "            alpha.remove(j)\n",
    "            \n",
    "        \n",
    "print(alpha)\n",
    "        \n",
    "\n",
    "\n"
   ]
  },
  {
   "cell_type": "code",
   "execution_count": 96,
   "id": "81e6ee9c",
   "metadata": {},
   "outputs": [
    {
     "name": "stdout",
     "output_type": "stream",
     "text": [
      "['a', 'b']\n"
     ]
    }
   ],
   "source": [
    "a=['a','a','b']\n",
    "a.remove('a')\n",
    "print(a)"
   ]
  },
  {
   "cell_type": "code",
   "execution_count": null,
   "id": "c2d69ed7",
   "metadata": {},
   "outputs": [],
   "source": []
  }
 ],
 "metadata": {
  "kernelspec": {
   "display_name": "Python 3 (ipykernel)",
   "language": "python",
   "name": "python3"
  },
  "language_info": {
   "codemirror_mode": {
    "name": "ipython",
    "version": 3
   },
   "file_extension": ".py",
   "mimetype": "text/x-python",
   "name": "python",
   "nbconvert_exporter": "python",
   "pygments_lexer": "ipython3",
   "version": "3.11.5"
  }
 },
 "nbformat": 4,
 "nbformat_minor": 5
}
