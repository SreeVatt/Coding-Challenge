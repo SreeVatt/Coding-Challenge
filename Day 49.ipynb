{
 "cells": [
  {
   "cell_type": "raw",
   "id": "03c25dd2",
   "metadata": {},
   "source": [
    "You are given an array of n integers. Your task is to calculate the median of each window of k elements, from left to right.\n",
    "The median is the middle element when the elements are sorted. If the number of elements is even, there are two possible medians and we assume that the median is the smaller of them.\n",
    "Input\n",
    "The first input line contains two integers n and k: the number of elements and the size of the window.\n",
    "Then there are n integers x_1,x_2,\\ldots,x_n: the contents of the array.\n",
    "Output\n",
    "Print n-k+1 values: the medians.\n",
    "Constraints\n",
    "\n",
    "1 \\le k \\le n \\le 2 \\cdot 10^5\n",
    "1 \\le x_i \\le 10^9\n",
    "\n",
    "Example\n",
    "Input:\n",
    "8 3\n",
    "2 4 3 5 8 1 2 1\n",
    "\n",
    "Output:\n",
    "3 4 5 5 2 1"
   ]
  },
  {
   "cell_type": "code",
   "execution_count": 5,
   "id": "7540670f",
   "metadata": {},
   "outputs": [
    {
     "name": "stdout",
     "output_type": "stream",
     "text": [
      "8 3\n",
      "2 4 3 5 8 1 2 1\n",
      "3 4 5 5 2 1\n"
     ]
    }
   ],
   "source": [
    "import heapq\n",
    "\n",
    "def sliding_window_medians(n, k, arr):\n",
    "    min_heap = []  \n",
    "    max_heap = [] \n",
    "    result = []\n",
    "\n",
    "    def add_number(num):\n",
    "        if not max_heap or num <= -max_heap[0]:\n",
    "            heapq.heappush(max_heap, -num)\n",
    "        else:\n",
    "            heapq.heappush(min_heap, num)\n",
    "        \n",
    "        if len(max_heap) > len(min_heap) + 1:\n",
    "            heapq.heappush(min_heap, -heapq.heappop(max_heap))\n",
    "        elif len(min_heap) > len(max_heap):\n",
    "            heapq.heappush(max_heap, -heapq.heappop(min_heap))\n",
    "    \n",
    "    def remove_number(num):\n",
    "        if num <= -max_heap[0]:\n",
    "            max_heap.remove(-num)\n",
    "            heapq.heapify(max_heap)\n",
    "        else:\n",
    "            min_heap.remove(num)\n",
    "            heapq.heapify(min_heap)\n",
    "        \n",
    "        if len(max_heap) > len(min_heap) + 1:\n",
    "            heapq.heappush(min_heap, -heapq.heappop(max_heap))\n",
    "        elif len(min_heap) > len(max_heap):\n",
    "            heapq.heappush(max_heap, -heapq.heappop(min_heap))\n",
    "    \n",
    "    for i in range(k):\n",
    "        add_number(arr[i])\n",
    "    \n",
    "    result.append(-max_heap[0])\n",
    "    \n",
    "    for i in range(k, n):\n",
    "        add_number(arr[i])\n",
    "        remove_number(arr[i - k])\n",
    "        result.append(-max_heap[0])\n",
    "    \n",
    "    return result\n",
    "\n",
    "n, k = map(int, input().split())\n",
    "arr = list(map(int, input().split()))\n",
    "\n",
    "print(*sliding_window_medians(n, k, arr))\n"
   ]
  },
  {
   "cell_type": "code",
   "execution_count": null,
   "id": "120792f1",
   "metadata": {},
   "outputs": [],
   "source": []
  }
 ],
 "metadata": {
  "kernelspec": {
   "display_name": "Python 3 (ipykernel)",
   "language": "python",
   "name": "python3"
  },
  "language_info": {
   "codemirror_mode": {
    "name": "ipython",
    "version": 3
   },
   "file_extension": ".py",
   "mimetype": "text/x-python",
   "name": "python",
   "nbconvert_exporter": "python",
   "pygments_lexer": "ipython3",
   "version": "3.11.5"
  }
 },
 "nbformat": 4,
 "nbformat_minor": 5
}
