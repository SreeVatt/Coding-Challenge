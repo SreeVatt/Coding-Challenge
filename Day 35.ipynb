{
 "cells": [
  {
   "cell_type": "raw",
   "id": "4aefea3a",
   "metadata": {},
   "source": [
    "You are given an array of n integers, and your task is to find two values (at distinct positions) whose sum is x.\n",
    "Input\n",
    "The first input line has two integers n and x: the array size and the target sum.\n",
    "The second line has n integers a_1,a_2,\\dots,a_n: the array values.\n",
    "Output\n",
    "Print two integers: the positions of the values. If there are several solutions, you may print any of them. If there are no solutions, print IMPOSSIBLE.\n",
    "Constraints\n",
    "\n",
    "1 \\le n \\le 2 \\cdot 10^5\n",
    "1 \\le x,a_i \\le 10^9\n",
    "\n",
    "Example\n",
    "Input:\n",
    "4 8\n",
    "2 7 5 1\n",
    "\n",
    "Output:\n",
    "2 4"
   ]
  },
  {
   "cell_type": "code",
   "execution_count": 8,
   "id": "f4c2af70",
   "metadata": {},
   "outputs": [
    {
     "name": "stdout",
     "output_type": "stream",
     "text": [
      "4 8\n",
      "2 7 5 1\n",
      "2 4\n"
     ]
    }
   ],
   "source": [
    "n,x=input().split()\n",
    "\n",
    "arr=input().split()\n",
    "for i in range(int(n)):\n",
    "    for j in range(i,int(n)):\n",
    "        if(int(arr[i])+int(arr[j])==int(x)):\n",
    "            print(arr.index(arr[i])+1,arr.index(arr[j])+1)"
   ]
  },
  {
   "cell_type": "raw",
   "id": "e35d8f57",
   "metadata": {},
   "source": [
    "Given an array of n integers, your task is to find the maximum sum of values in a contiguous, nonempty subarray.\n",
    "Input\n",
    "The first input line has an integer n: the size of the array.\n",
    "The second line has n integers x_1,x_2,\\dots,x_n: the array values.\n",
    "Output\n",
    "Print one integer: the maximum subarray sum.\n",
    "Constraints\n",
    "\n",
    "1 \\le n \\le 2 \\cdot 10^5\n",
    "-10^9 \\le x_i \\le 10^9\n",
    "\n",
    "Example\n",
    "Input:\n",
    "8\n",
    "-1 3 -2 5 3 -5 2 2\n",
    "\n",
    "Output:\n",
    "9"
   ]
  },
  {
   "cell_type": "code",
   "execution_count": 14,
   "id": "43b945ca",
   "metadata": {},
   "outputs": [
    {
     "name": "stdout",
     "output_type": "stream",
     "text": [
      "9\n"
     ]
    }
   ],
   "source": [
    "n=8\n",
    "res=[]\n",
    "arr=[-1,3,-2,5,3,-5,2,2]\n",
    "for i in range(int(n)):\n",
    "    sumi=0\n",
    "    for j in range(i,int(n)):\n",
    "        sumi+=arr[j]\n",
    "        res.append(sumi)\n",
    "    \n",
    "\n",
    "print(max(res))\n",
    "    "
   ]
  }
 ],
 "metadata": {
  "kernelspec": {
   "display_name": "Python 3 (ipykernel)",
   "language": "python",
   "name": "python3"
  },
  "language_info": {
   "codemirror_mode": {
    "name": "ipython",
    "version": 3
   },
   "file_extension": ".py",
   "mimetype": "text/x-python",
   "name": "python",
   "nbconvert_exporter": "python",
   "pygments_lexer": "ipython3",
   "version": "3.11.5"
  }
 },
 "nbformat": 4,
 "nbformat_minor": 5
}
