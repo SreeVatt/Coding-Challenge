{
 "cells": [
  {
   "cell_type": "markdown",
   "id": "d6601036",
   "metadata": {},
   "source": [
    "Sort a List in Ascending Order Without using an Extra Variable"
   ]
  },
  {
   "cell_type": "code",
   "execution_count": 1,
   "id": "defcac92",
   "metadata": {},
   "outputs": [
    {
     "name": "stdout",
     "output_type": "stream",
     "text": [
      "Original List: [76, 23, 45, 12, 54, 9]\n",
      "Sorted List [9, 12, 23, 45, 54, 76]\n"
     ]
    }
   ],
   "source": [
    "l1=[76, 23, 45, 12, 54, 9] \n",
    "print(\"Original List:\", l1)\n",
    " \n",
    "# sorting list using nested loops\n",
    "for i in range(0, len(l1)):\n",
    "    for j in range(i+1, len(l1)):\n",
    "        if l1[i] >= l1[j]:\n",
    "            l1[i], l1[j] = l1[j],l1[i]\n",
    " \n",
    "# sorted list\n",
    "print(\"Sorted List\", l1)"
   ]
  },
  {
   "cell_type": "markdown",
   "id": "ce51900b",
   "metadata": {},
   "source": [
    "Sort a List in Decending Order Without using an Extra Variable"
   ]
  },
  {
   "cell_type": "code",
   "execution_count": 2,
   "id": "62bc88d7",
   "metadata": {},
   "outputs": [
    {
     "name": "stdout",
     "output_type": "stream",
     "text": [
      "Original List: [76, 23, 45, 12, 54, 9]\n",
      "Sorted List [76, 54, 45, 23, 12, 9]\n"
     ]
    }
   ],
   "source": [
    "l1=[76, 23, 45, 12, 54, 9] \n",
    "print(\"Original List:\", l1)\n",
    " \n",
    "# sorting list using nested loops\n",
    "for i in range(0, len(l1)):\n",
    "    for j in range(i+1, len(l1)):\n",
    "        if l1[i] <= l1[j]:\n",
    "            l1[i], l1[j] = l1[j],l1[i]\n",
    " \n",
    "# sorted list\n",
    "print(\"Sorted List\", l1)"
   ]
  },
  {
   "cell_type": "markdown",
   "id": "178d550b",
   "metadata": {},
   "source": [
    "finding the minimum sum and maximum sum in a specific limit from a list"
   ]
  },
  {
   "cell_type": "code",
   "execution_count": 3,
   "id": "73214996",
   "metadata": {},
   "outputs": [
    {
     "name": "stdout",
     "output_type": "stream",
     "text": [
      "Original List: [76, 23, 45, 12, 54, 9]\n",
      "max :  12 \n",
      " Min :  21\n"
     ]
    }
   ],
   "source": [
    "l1=[76, 23, 45, 12, 54, 9] \n",
    "print(\"Original List:\", l1)\n",
    "l=5#maximum limit\n",
    " \n",
    "# sorting list using nested loops\n",
    "for i in range(0, len(l1)):\n",
    "    for j in range(i+1, len(l1)):\n",
    "        if l1[i] >= l1[j]:\n",
    "            l1[i], l1[j] = l1[j],l1[i]\n",
    "asc=l1\n",
    "desc=l1[::-1]\n",
    "\n",
    "mini=asc[0]+asc[1]\n",
    "maxi=0\n",
    "for i in range(l):\n",
    "    maxi=+desc[i]\n",
    " \n",
    "print('max : ',maxi,'\\n','Min : ',mini)"
   ]
  },
  {
   "cell_type": "code",
   "execution_count": null,
   "id": "882a1a97",
   "metadata": {},
   "outputs": [],
   "source": []
  }
 ],
 "metadata": {
  "kernelspec": {
   "display_name": "Python 3 (ipykernel)",
   "language": "python",
   "name": "python3"
  },
  "language_info": {
   "codemirror_mode": {
    "name": "ipython",
    "version": 3
   },
   "file_extension": ".py",
   "mimetype": "text/x-python",
   "name": "python",
   "nbconvert_exporter": "python",
   "pygments_lexer": "ipython3",
   "version": "3.11.5"
  }
 },
 "nbformat": 4,
 "nbformat_minor": 5
}
