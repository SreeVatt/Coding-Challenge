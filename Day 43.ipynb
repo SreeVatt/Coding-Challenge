{
 "cells": [
  {
   "cell_type": "raw",
   "id": "7c09499a",
   "metadata": {},
   "source": [
    "A Gray code is a list of all 2^n bit strings of length n, where any two successive strings differ in exactly one bit (i.e., their Hamming distance is one).\n",
    "Your task is to create a Gray code for a given length n.\n",
    "Input\n",
    "The only input line has an integer n.\n",
    "Output\n",
    "Print 2^n lines that describe the Gray code. You can print any valid solution.\n",
    "Constraints\n",
    "\n",
    "1 \\le n \\le 16\n",
    "\n",
    "Example\n",
    "Input:\n",
    "2\n",
    "\n",
    "Output:\n",
    "00\n",
    "01\n",
    "11\n",
    "10"
   ]
  },
  {
   "cell_type": "code",
   "execution_count": 1,
   "id": "e1c5585b",
   "metadata": {},
   "outputs": [
    {
     "name": "stdout",
     "output_type": "stream",
     "text": [
      "2\n",
      "00\n",
      "01\n",
      "11\n",
      "10\n"
     ]
    }
   ],
   "source": [
    "def generate_gray_code(n):\n",
    "    gray_code = [\"0\", \"1\"]  # Base case for n = 1\n",
    "    for i in range(2, n + 1):\n",
    "        # Prefix '0' to the existing Gray code\n",
    "        gray_code_with_0 = [\"0\" + code for code in gray_code]\n",
    "        # Prefix '1' to the reversed Gray code\n",
    "        gray_code_with_1 = [\"1\" + code for code in reversed(gray_code)]\n",
    "        # Combine the two parts\n",
    "        gray_code = gray_code_with_0 + gray_code_with_1\n",
    "    return gray_code\n",
    "\n",
    "# Input\n",
    "n = int(input())\n",
    "\n",
    "# Generate Gray code and print\n",
    "result = generate_gray_code(n)\n",
    "print(\"\\n\".join(result))\n"
   ]
  },
  {
   "cell_type": "code",
   "execution_count": null,
   "id": "a827dc91",
   "metadata": {},
   "outputs": [],
   "source": []
  }
 ],
 "metadata": {
  "kernelspec": {
   "display_name": "Python 3 (ipykernel)",
   "language": "python",
   "name": "python3"
  },
  "language_info": {
   "codemirror_mode": {
    "name": "ipython",
    "version": 3
   },
   "file_extension": ".py",
   "mimetype": "text/x-python",
   "name": "python",
   "nbconvert_exporter": "python",
   "pygments_lexer": "ipython3",
   "version": "3.11.5"
  }
 },
 "nbformat": 4,
 "nbformat_minor": 5
}
