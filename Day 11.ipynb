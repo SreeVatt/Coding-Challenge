{
 "cells": [
  {
   "cell_type": "raw",
   "id": "0de55b17",
   "metadata": {},
   "source": [
    "Intuition\n",
    "The problem requires checking whether a given string is an AB string or not. An AB string is one where all the 'a's appear before all the 'b's. This implies that there should be no occurrence of 'a' after 'b'.\n",
    "\n",
    "Approach\n",
    "The approach taken is to iterate through the characters of the string and check if there's any occurrence of 'a' after 'b'. If such an occurrence is found, we conclude that it's not an AB string and print \"NO\". Otherwise, we print \"YES\".\n",
    "\n",
    "Complexity\n",
    "Time complexity: O(n), where n is the length of the input string 's'.\n",
    "Space complexity: O(1), as we only use a boolean flag to check the condition."
   ]
  },
  {
   "cell_type": "code",
   "execution_count": null,
   "id": "202ff47e",
   "metadata": {},
   "outputs": [],
   "source": [
    "def check(s):\n",
    "  a_after_b = False\n",
    "  for i in range(1, len(s)):\n",
    "    if s[i - 1] == 'b' and s[i] == 'a':\n",
    "        a_after_b = True\n",
    "        break\n",
    "  return \"NO\" if a_after_b else \"YES\"\n",
    "\n",
    "s = input()\n",
    "\n",
    "print(check(s))"
   ]
  },
  {
   "cell_type": "raw",
   "id": "6a49bea1",
   "metadata": {},
   "source": [
    "Intuition\n",
    "We want to find the integer that appears most frequently in an array of integers.\n",
    "\n",
    "Approach\n",
    "Take the size of the array n and the array elements as input.\n",
    "Create a dictionary count_dict to store the count of each integer.\n",
    "Loop through the array and count the occurrences of each integer by updating count_dict.\n",
    "Initialize variables max_count and most_common_num to keep track of the integer with the highest count and its count, respectively.\n",
    "Iterate through the items in count_dict and compare the count of each integer with max_count. If the count is greater than max_count, update max_count and most_common_num with the current integer and count.\n",
    "Print the most_common_num, which is the integer that appears most frequently in the array.\n",
    "Complexity\n",
    "Time complexity: O(n), where n is the size of the array. We loop through the array once to count the occurrences of each integer.\n",
    "Space complexity: O(m), where m is the number of unique integers in the array. We use a dictionary to store counts, and in the worst case, there can be as many unique integers as there are elements in the array."
   ]
  },
  {
   "cell_type": "code",
   "execution_count": null,
   "id": "3cfc5e26",
   "metadata": {},
   "outputs": [],
   "source": [
    "def check(b):\n",
    "    # Create an empty dictionary 'temp' to store counts of each element in 'b'\n",
    "    temp = {}\n",
    "\n",
    "    # Loop through each element 'i' in the list 'b'\n",
    "    for i in b:\n",
    "        # Check if 'i' is already in the 'temp' dictionary\n",
    "        if i in temp:\n",
    "            # If it is, increment its count by 1\n",
    "            temp[i] += 1\n",
    "        else:\n",
    "            # If it's not, add it to the dictionary with a count of 1\n",
    "            temp[i] = 1\n",
    "\n",
    "    # Initialize variables 'count' and 'rep_num' to keep track of the most common element and its count\n",
    "    rep_num = 0\n",
    "    count = 0\n",
    "\n",
    "    # Loop through the items in the 'temp' dictionary\n",
    "    for n, c in temp.items():\n",
    "        # Check if the count 'c' is greater than the current maximum count 'count'\n",
    "        if c > count:\n",
    "            # If it is, update 'count' and 'rep_num' with the new maximum values\n",
    "            count = c\n",
    "            rep_num = n\n",
    "\n",
    "    # Return the most common element 'rep_num' as the result\n",
    "    return rep_num\n",
    "\n",
    "# Input: Read an integer 'a'\n",
    "a = int(input())\n",
    "\n",
    "# Input: Read a list of integers 'b'\n",
    "b = list(map(int, input().split()))\n",
    "\n",
    "# Call the 'check' function with the list 'b' and print the result\n",
    "print(check(b))"
   ]
  }
 ],
 "metadata": {
  "kernelspec": {
   "display_name": "Python 3 (ipykernel)",
   "language": "python",
   "name": "python3"
  },
  "language_info": {
   "codemirror_mode": {
    "name": "ipython",
    "version": 3
   },
   "file_extension": ".py",
   "mimetype": "text/x-python",
   "name": "python",
   "nbconvert_exporter": "python",
   "pygments_lexer": "ipython3",
   "version": "3.11.5"
  }
 },
 "nbformat": 4,
 "nbformat_minor": 5
}
