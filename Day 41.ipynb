{
 "cells": [
  {
   "cell_type": "raw",
   "id": "02668fce",
   "metadata": {},
   "source": [
    "There are n apples with known weights. Your task is to divide the apples into two groups so that the difference between the weights of the groups is minimal.\n",
    "Input\n",
    "The first input line has an integer n: the number of apples.\n",
    "The next line has n integers p_1,p_2,\\dots,p_n: the weight of each apple.\n",
    "Output\n",
    "Print one integer: the minimum difference between the weights of the groups.\n",
    "Constraints\n",
    "\n",
    "1 \\le n \\le 20\n",
    "1 \\le p_i \\le 10^9\n",
    "\n",
    "Example\n",
    "Input:\n",
    "5\n",
    "3 2 7 4 1\n",
    "\n",
    "Output:\n",
    "1\n",
    "\n",
    "Explanation: Group 1 has weights 2, 3 and 4 (total weight 9), and group 2 has weights 1 and 7 (total weight 8)."
   ]
  },
  {
   "cell_type": "code",
   "execution_count": 2,
   "id": "28c84154",
   "metadata": {},
   "outputs": [
    {
     "name": "stdout",
     "output_type": "stream",
     "text": [
      "5\n",
      "3 2 7 4 1\n",
      "1\n"
     ]
    }
   ],
   "source": [
    "def min_difference(n, weights):\n",
    "    total_weight = sum(weights)\n",
    "    min_diff = float('inf')\n",
    "    for i in range(1 << n):  \n",
    "        group1_weight = 0\n",
    "        for j in range(n):\n",
    "            if i & (1 << j):  \n",
    "                group1_weight += weights[j]\n",
    "        group2_weight = total_weight - group1_weight\n",
    "        min_diff = min(min_diff, abs(group1_weight - group2_weight))\n",
    "    \n",
    "    return min_diff\n",
    "\n",
    "\n",
    "n = int(input())\n",
    "weights = list(map(int, input().split()))\n",
    "\n",
    "print(min_difference(n, weights))\n"
   ]
  }
 ],
 "metadata": {
  "kernelspec": {
   "display_name": "Python 3 (ipykernel)",
   "language": "python",
   "name": "python3"
  },
  "language_info": {
   "codemirror_mode": {
    "name": "ipython",
    "version": 3
   },
   "file_extension": ".py",
   "mimetype": "text/x-python",
   "name": "python",
   "nbconvert_exporter": "python",
   "pygments_lexer": "ipython3",
   "version": "3.11.5"
  }
 },
 "nbformat": 4,
 "nbformat_minor": 5
}
