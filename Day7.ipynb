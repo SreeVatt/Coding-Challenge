{
 "cells": [
  {
   "cell_type": "markdown",
   "id": "176c84a0",
   "metadata": {},
   "source": [
    "You have write a function that accepts, a string which length is “len”, the string has some “#”, in it you have to move all the hashes to the front of the string and return the whole string back and print it.\n",
    "Sample Test Case\n",
    "\n",
    "Input:\n",
    "\n",
    "Move#Hash#to#Front\n",
    "\n",
    "Output:\n",
    "\n",
    "###MoveHashtoFront\n",
    "\n"
   ]
  },
  {
   "cell_type": "code",
   "execution_count": 2,
   "id": "39def6fc",
   "metadata": {},
   "outputs": [
    {
     "name": "stdout",
     "output_type": "stream",
     "text": [
      "Move#Hash#to#Front\n",
      "###MoveHashtoFront\n"
     ]
    }
   ],
   "source": [
    "def swap(string):\n",
    "    words=''\n",
    "    hasht=0\n",
    "    for i in string:\n",
    "        if(i=='#'):\n",
    "            hasht=hasht+1\n",
    "        else:\n",
    "            words=words+i\n",
    "            \n",
    "    return('#'*hasht+words)\n",
    "    \n",
    "inp=input()\n",
    "print(swap(inp))"
   ]
  },
  {
   "cell_type": "markdown",
   "id": "d46ac84e",
   "metadata": {},
   "source": [
    "    Capgemini in its online written test have a coding question, wherein the students are given a string with multiple characters that are repeated consecutively. You’re supposed to reduce the size of this string using mathematical logic given as in the example below :\n",
    "\n",
    "Input :\n",
    "\n",
    "aabbbbeeeeffggg\n",
    "\n",
    "Output:\n",
    "\n",
    "a2b4e4f2g3\n",
    "\n",
    "Input :\n",
    "\n",
    "abbccccc\n",
    "\n",
    "Output:\n",
    "\n",
    "ab2c5"
   ]
  },
  {
   "cell_type": "code",
   "execution_count": 8,
   "id": "28d08897",
   "metadata": {},
   "outputs": [
    {
     "data": {
      "text/plain": [
       "'a2b4e4f2g3'"
      ]
     },
     "execution_count": 8,
     "metadata": {},
     "output_type": "execute_result"
    }
   ],
   "source": [
    "def counting(string):\n",
    "    alpha=0\n",
    "    result=''\n",
    "    point=''\n",
    "    for i in string:\n",
    "        if(point!=i):\n",
    "            if(alpha!=0):\n",
    "                result=result+point+str(alpha)\n",
    "            alpha=1\n",
    "            point=i\n",
    "            \n",
    "        else:\n",
    "            alpha+=1\n",
    "    result=result+point+str(alpha)  \n",
    "    return result\n",
    "      \n",
    "counting('aabbbbeeeeffggg')"
   ]
  },
  {
   "cell_type": "markdown",
   "id": "8c53e0e5",
   "metadata": {},
   "source": [
    "You’re given an array of integers, print the number of times each integer has occurred in the array.\n",
    "\n",
    " \n",
    "\n",
    "Example\n",
    "\n",
    "Input :\n",
    "\n",
    "10\n",
    "\n",
    "1 2 3 3 4 1 4 5 1 2"
   ]
  },
  {
   "cell_type": "code",
   "execution_count": 12,
   "id": "dff7fcf8",
   "metadata": {
    "scrolled": true
   },
   "outputs": [
    {
     "name": "stdout",
     "output_type": "stream",
     "text": [
      "1 occurs 3 times\n",
      "2 occurs 2 times\n",
      "3 occurs 2 times\n",
      "4 occurs 2 times\n"
     ]
    }
   ],
   "source": [
    "inp=[1,2,3,3,4,1,4,5,1,2]\n",
    "maxi=max(inp)\n",
    "mini=min(inp)\n",
    "for i in range(mini,maxi):\n",
    "    n=inp.count(i)\n",
    "    if(n!=0):\n",
    "        print(i,'occurs',n,'times')\n",
    "\n",
    "    \n",
    "    \n",
    "            "
   ]
  },
  {
   "cell_type": "markdown",
   "id": "e7630bf7",
   "metadata": {},
   "source": [
    "Problem Statement –\n",
    "\n",
    "A function is there which tells how many dealerships there are and the total number of cars in each dealership.\n",
    "\n",
    "Your job is to calculate how many tyres would be there in each dealership.\n",
    "\n",
    " \n",
    "\n",
    "Input\n",
    "\n",
    "3 \n",
    "\n",
    "4 2\n",
    "\n",
    "4 0\n",
    "\n",
    "1 2\n",
    "\n",
    "Output\n",
    "\n",
    "20\n",
    "\n",
    "16\n",
    "\n",
    "8\n",
    "\n",
    " \n",
    "\n",
    "There are total 3 dealerships\n",
    "\n",
    "dealerships1 contains 4 cars and 2 bikes\n",
    "\n",
    "dealerships2 contains 4 cars and 0 bikes\n",
    "\n",
    "dealerships3 contains 1 cars and 2 bikes\n",
    "\n",
    "Total number of tyres in dealerships1  is (4 x 4) + (2 x 2) = 20\n",
    "\n",
    "Total number of tyres in dealerships2 is (4 x 4) + (0 x 2) = 16\n",
    "\n",
    "Total number of tyres in dealerships3 is (1 x 4) + (2 x 2) = 8"
   ]
  },
  {
   "cell_type": "code",
   "execution_count": 16,
   "id": "8300444f",
   "metadata": {},
   "outputs": [
    {
     "name": "stdout",
     "output_type": "stream",
     "text": [
      "3\n",
      "4 2\n",
      "20\n",
      "4 0\n",
      "16\n",
      "1 2\n",
      "8\n"
     ]
    }
   ],
   "source": [
    "n=int(input())\n",
    "for i in range(n):\n",
    "    c,b=input().split()\n",
    "    print((int(c)*4)+(int(b)*2))"
   ]
  }
 ],
 "metadata": {
  "kernelspec": {
   "display_name": "Python 3 (ipykernel)",
   "language": "python",
   "name": "python3"
  },
  "language_info": {
   "codemirror_mode": {
    "name": "ipython",
    "version": 3
   },
   "file_extension": ".py",
   "mimetype": "text/x-python",
   "name": "python",
   "nbconvert_exporter": "python",
   "pygments_lexer": "ipython3",
   "version": "3.11.5"
  }
 },
 "nbformat": 4,
 "nbformat_minor": 5
}
