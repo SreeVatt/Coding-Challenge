{
 "cells": [
  {
   "cell_type": "markdown",
   "id": "d52e7f73",
   "metadata": {},
   "source": [
    "### Stacks\n",
    "A stack is a data structure that can hold many elements.\n",
    "\n",
    "\n",
    "\n",
    "push()pop()peek()isEmpty()size()\n",
    "Think of a stack like a pile of pancakes.\n",
    "\n",
    "In a pile of pancakes, the pancakes are both added and removed from the top. So when removing a pancake, it will always be the last pancake you added. This way of organizing elements is called LIFO: Last In First Out.\n",
    "\n",
    "Basic operations we can do on a stack are:\n",
    "\n",
    "Push: Adds a new element on the stack.\n",
    "Pop: Removes and returns the top element from the stack.\n",
    "Peek: Returns the top element on the stack.\n",
    "isEmpty: Checks if the stack is empty.\n",
    "Size: Finds the number of elements in the stack.\n",
    "Experiment with these basic operations in the stack animation above.\n",
    "\n",
    "Stacks can be implemented by using arrays or linked lists.\n",
    "\n",
    "Stacks can be used to implement undo mechanisms, to revert to previous states, to create algorithms for depth-first search in graphs, or for backtracking.\n",
    "\n",
    "Stacks are often mentioned together with Queues, which is a similar data structure described on the next page."
   ]
  },
  {
   "cell_type": "code",
   "execution_count": 1,
   "id": "53487513",
   "metadata": {},
   "outputs": [
    {
     "name": "stdout",
     "output_type": "stream",
     "text": [
      "Stack:  ['A', 'B', 'C']\n",
      "Pop:  C\n",
      "Peek:  B\n",
      "isEmpty:  False\n",
      "Size:  2\n"
     ]
    }
   ],
   "source": [
    "stack = []\n",
    "\n",
    "# Push\n",
    "stack.append('A')\n",
    "stack.append('B')\n",
    "stack.append('C')\n",
    "print(\"Stack: \", stack)\n",
    "\n",
    "# Pop\n",
    "element = stack.pop()\n",
    "print(\"Pop: \", element)\n",
    "\n",
    "# Peek\n",
    "topElement = stack[-1]\n",
    "print(\"Peek: \", topElement)\n",
    "\n",
    "# isEmpty\n",
    "isEmpty = not bool(stack)\n",
    "print(\"isEmpty: \", isEmpty)\n",
    "\n",
    "# Size\n",
    "print(\"Size: \",len(stack))"
   ]
  },
  {
   "cell_type": "code",
   "execution_count": 2,
   "id": "5de1291a",
   "metadata": {},
   "outputs": [
    {
     "name": "stdout",
     "output_type": "stream",
     "text": [
      "Stack:  ['A', 'B', 'C']\n",
      "Pop:  C\n",
      "Peek:  B\n",
      "isEmpty:  False\n",
      "Size:  2\n"
     ]
    }
   ],
   "source": [
    "class Stack:\n",
    "    def __init__(self):\n",
    "        self.stack = []\n",
    "    \n",
    "    def push(self, element):\n",
    "        self.stack.append(element)\n",
    "    \n",
    "    def pop(self):\n",
    "        if self.isEmpty():\n",
    "            return \"Stack is empty\"\n",
    "        return self.stack.pop()\n",
    "    \n",
    "    def peek(self):\n",
    "        if self.isEmpty():\n",
    "            return \"Stack is empty\"\n",
    "        return self.stack[-1]\n",
    "    \n",
    "    def isEmpty(self):\n",
    "        return len(self.stack) == 0\n",
    "    \n",
    "    def size(self):\n",
    "        return len(self.stack)\n",
    "\n",
    "# Create a stack\n",
    "myStack = Stack()\n",
    "\n",
    "myStack.push('A')\n",
    "myStack.push('B')\n",
    "myStack.push('C')\n",
    "print(\"Stack: \", myStack.stack)\n",
    "\n",
    "print(\"Pop: \", myStack.pop())\n",
    "\n",
    "print(\"Peek: \", myStack.peek())\n",
    "\n",
    "print(\"isEmpty: \", myStack.isEmpty())\n",
    "\n",
    "print(\"Size: \", myStack.size())"
   ]
  },
  {
   "cell_type": "markdown",
   "id": "f7135670",
   "metadata": {},
   "source": [
    "## Stack Implementation using Linked Lists\n",
    "A reason for using linked lists to implement stacks:\n",
    "\n",
    "Dynamic size: The stack can grow and shrink dynamically, unlike with arrays.\n",
    "Reasons for not using linked lists to implement stacks:\n",
    "\n",
    "Extra memory: Each stack element must contain the address to the next element (the next linked list node).\n",
    "Readability: The code might be harder to read and write for some because it is longer and more complex."
   ]
  },
  {
   "cell_type": "code",
   "execution_count": 3,
   "id": "547b37cb",
   "metadata": {},
   "outputs": [
    {
     "name": "stdout",
     "output_type": "stream",
     "text": [
      "Pop:  C\n",
      "Peek:  B\n",
      "isEmpty:  False\n",
      "Size:  2\n"
     ]
    }
   ],
   "source": [
    "class Node:\n",
    "    def __init__(self, value):\n",
    "        self.value = value\n",
    "        self.next = None\n",
    "\n",
    "class Stack:\n",
    "    def __init__(self):\n",
    "        self.head = None\n",
    "        self.size = 0\n",
    "    \n",
    "    def push(self, value):\n",
    "        new_node = Node(value)\n",
    "        if self.head:\n",
    "            new_node.next = self.head\n",
    "        self.head = new_node\n",
    "        self.size += 1\n",
    "    \n",
    "    def pop(self):\n",
    "        if self.isEmpty():\n",
    "            return \"Stack is empty\"\n",
    "        popped_node = self.head\n",
    "        self.head = self.head.next\n",
    "        self.size -= 1\n",
    "        return popped_node.value\n",
    "    \n",
    "    def peek(self):\n",
    "        if self.isEmpty():\n",
    "            return \"Stack is empty\"\n",
    "        return self.head.value\n",
    "    \n",
    "    def isEmpty(self):\n",
    "        return self.size == 0\n",
    "    \n",
    "    def stackSize(self):\n",
    "        return self.size\n",
    "\n",
    "myStack = Stack()\n",
    "myStack.push('A')\n",
    "myStack.push('B')\n",
    "myStack.push('C')\n",
    "\n",
    "print(\"Pop: \", myStack.pop())\n",
    "print(\"Peek: \", myStack.peek())\n",
    "print(\"isEmpty: \", myStack.isEmpty())\n",
    "print(\"Size: \", myStack.stackSize())"
   ]
  }
 ],
 "metadata": {
  "kernelspec": {
   "display_name": "Python 3 (ipykernel)",
   "language": "python",
   "name": "python3"
  },
  "language_info": {
   "codemirror_mode": {
    "name": "ipython",
    "version": 3
   },
   "file_extension": ".py",
   "mimetype": "text/x-python",
   "name": "python",
   "nbconvert_exporter": "python",
   "pygments_lexer": "ipython3",
   "version": "3.11.5"
  }
 },
 "nbformat": 4,
 "nbformat_minor": 5
}
