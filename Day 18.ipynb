{
 "cells": [
  {
   "cell_type": "markdown",
   "id": "cc72d43e",
   "metadata": {},
   "source": [
    "### Stacks\n",
    "A stack is a data structure that can hold many elements.\n",
    "\n",
    "\n",
    "\n",
    "push()pop()peek()isEmpty()size()\n",
    "Think of a stack like a pile of pancakes.\n",
    "\n",
    "In a pile of pancakes, the pancakes are both added and removed from the top. So when removing a pancake, it will always be the last pancake you added. This way of organizing elements is called LIFO: Last In First Out.\n",
    "\n",
    "Basic operations we can do on a stack are:\n",
    "\n",
    "Push: Adds a new element on the stack.\n",
    "Pop: Removes and returns the top element from the stack.\n",
    "Peek: Returns the top element on the stack.\n",
    "isEmpty: Checks if the stack is empty.\n",
    "Size: Finds the number of elements in the stack.\n",
    "Experiment with these basic operations in the stack animation above.\n",
    "\n",
    "Stacks can be implemented by using arrays or linked lists.\n",
    "\n",
    "Stacks can be used to implement undo mechanisms, to revert to previous states, to create algorithms for depth-first search in graphs, or for backtracking.\n",
    "\n",
    "Stacks are often mentioned together with Queues, which is a similar data structure described on the next page."
   ]
  },
  {
   "cell_type": "code",
   "execution_count": 1,
   "id": "99aa371d",
   "metadata": {},
   "outputs": [
    {
     "name": "stdout",
     "output_type": "stream",
     "text": [
      "Stack:  ['A', 'B', 'C']\n",
      "Pop:  C\n",
      "Peek:  B\n",
      "isEmpty:  False\n",
      "Size:  2\n"
     ]
    }
   ],
   "source": [
    "stack = []\n",
    "\n",
    "# Push\n",
    "stack.append('A')\n",
    "stack.append('B')\n",
    "stack.append('C')\n",
    "print(\"Stack: \", stack)\n",
    "\n",
    "# Pop\n",
    "element = stack.pop()\n",
    "print(\"Pop: \", element)\n",
    "\n",
    "# Peek\n",
    "topElement = stack[-1]\n",
    "print(\"Peek: \", topElement)\n",
    "\n",
    "# isEmpty\n",
    "isEmpty = not bool(stack)\n",
    "print(\"isEmpty: \", isEmpty)\n",
    "\n",
    "# Size\n",
    "print(\"Size: \",len(stack))"
   ]
  },
  {
   "cell_type": "code",
   "execution_count": null,
   "id": "af4b1057",
   "metadata": {},
   "outputs": [],
   "source": []
  }
 ],
 "metadata": {
  "kernelspec": {
   "display_name": "Python 3 (ipykernel)",
   "language": "python",
   "name": "python3"
  },
  "language_info": {
   "codemirror_mode": {
    "name": "ipython",
    "version": 3
   },
   "file_extension": ".py",
   "mimetype": "text/x-python",
   "name": "python",
   "nbconvert_exporter": "python",
   "pygments_lexer": "ipython3",
   "version": "3.11.5"
  }
 },
 "nbformat": 4,
 "nbformat_minor": 5
}
