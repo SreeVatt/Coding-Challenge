{
 "cells": [
  {
   "cell_type": "raw",
   "id": "99366ce4",
   "metadata": {},
   "source": [
    "Given an array of n integers, your task is to find for each array position the nearest position to its left having a smaller value.\n",
    "Input\n",
    "The first input line has an integer n: the size of the array.\n",
    "The second line has n integers x_1,x_2,\\dots,x_n: the array values.\n",
    "Output\n",
    "Print n integers: for each array position the nearest position with a smaller value. If there is no such position, print 0.\n",
    "Constraints\n",
    "\n",
    "1 \\le n \\le 2 \\cdot 10^5\n",
    "1 \\le x_i \\le 10^9\n",
    "\n",
    "Example\n",
    "Input:\n",
    "8\n",
    "2 5 1 4 8 3 2 5\n",
    "\n",
    "Output:\n",
    "0 1 0 3 4 3 3 7"
   ]
  },
  {
   "cell_type": "code",
   "execution_count": null,
   "id": "3abe1e69",
   "metadata": {},
   "outputs": [],
   "source": [
    "def nearest_smaller_to_left(n, arr):\n",
    "    stack = []\n",
    "    result = []\n",
    "    \n",
    "    for i in range(n):\n",
    "        # Remove elements from the stack that are not smaller than arr[i]\n",
    "        while stack and arr[stack[-1]] >= arr[i]:\n",
    "            stack.pop()\n",
    "        \n",
    "        # If the stack is empty, there's no smaller element to the left\n",
    "        if not stack:\n",
    "            result.append(0)\n",
    "        else:\n",
    "            # The top of the stack is the nearest smaller element's index\n",
    "            result.append(stack[-1] + 1)\n",
    "        \n",
    "        # Push the current index onto the stack\n",
    "        stack.append(i)\n",
    "    \n",
    "    return result\n",
    "\n",
    "# Input\n",
    "n = int(input())\n",
    "arr = list(map(int, input().split()))\n",
    "\n",
    "# Output the result\n",
    "print(*nearest_smaller_to_left(n, arr))\n"
   ]
  }
 ],
 "metadata": {
  "kernelspec": {
   "display_name": "Python 3 (ipykernel)",
   "language": "python",
   "name": "python3"
  },
  "language_info": {
   "codemirror_mode": {
    "name": "ipython",
    "version": 3
   },
   "file_extension": ".py",
   "mimetype": "text/x-python",
   "name": "python",
   "nbconvert_exporter": "python",
   "pygments_lexer": "ipython3",
   "version": "3.11.5"
  }
 },
 "nbformat": 4,
 "nbformat_minor": 5
}
