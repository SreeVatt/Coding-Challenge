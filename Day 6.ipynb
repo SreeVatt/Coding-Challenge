{
 "cells": [
  {
   "cell_type": "markdown",
   "id": "3ad72b6a",
   "metadata": {},
   "source": [
    "You are asked to ensure that the first and last names of people begin with a capital letter in their passports. For example, alison heck should be capitalised correctly as Alison Heck.\n",
    "\n",
    "\n",
    "Given a full name, your task is to capitalize the name appropriately.\n",
    "\n",
    "Input Format\n",
    "\n",
    "A single line of input containing the full name, .\n",
    "\n",
    "Constraints\n",
    "\n",
    "The string consists of alphanumeric characters and spaces.\n",
    "Note: in a word only the first character is capitalized. Example 12abc when capitalized remains 12abc.\n",
    "\n",
    "Output Format\n",
    "\n",
    "Print the capitalized string, .\n",
    "\n",
    "Sample Input\n",
    "\n",
    "chris alan\n",
    "Sample Output\n",
    "\n",
    "Chris Alan"
   ]
  },
  {
   "cell_type": "code",
   "execution_count": 3,
   "id": "043f5a47",
   "metadata": {},
   "outputs": [
    {
     "name": "stdout",
     "output_type": "stream",
     "text": [
      "sree vathsan\n",
      "Sree Vathsan\n"
     ]
    }
   ],
   "source": [
    "#!/bin/python3\n",
    "\n",
    "import math\n",
    "import os\n",
    "import random\n",
    "import re\n",
    "import sys\n",
    "\n",
    "# Complete the solve function below.\n",
    "def solve(s):\n",
    "    res=s.capitalize()\n",
    "    for i in range(len(s)):\n",
    "        if(s[i]==' '):\n",
    "            res=res[:i+1]+(res[i+1:]).capitalize()\n",
    "    return res\n",
    "\n",
    "if __name__ == '__main__':\n",
    "    \n",
    "\n",
    "    s = input()\n",
    "\n",
    "    result = solve(s)\n",
    "\n",
    "    print(result)\n"
   ]
  },
  {
   "cell_type": "code",
   "execution_count": 4,
   "id": "1ba85e57",
   "metadata": {},
   "outputs": [
    {
     "ename": "SyntaxError",
     "evalue": "invalid syntax (4050283297.py, line 1)",
     "output_type": "error",
     "traceback": [
      "\u001b[1;36m  Cell \u001b[1;32mIn[4], line 1\u001b[1;36m\u001b[0m\n\u001b[1;33m    You are given a string  and width .\u001b[0m\n\u001b[1;37m        ^\u001b[0m\n\u001b[1;31mSyntaxError\u001b[0m\u001b[1;31m:\u001b[0m invalid syntax\n"
     ]
    }
   ],
   "source": [
    "You are given a string  and width .\n",
    "Your task is to wrap the string into a paragraph of width .\n",
    "\n",
    "Function Description\n",
    "\n",
    "Complete the wrap function in the editor below.\n",
    "\n",
    "wrap has the following parameters:\n",
    "\n",
    "string string: a long string\n",
    "int max_width: the width to wrap to\n",
    "Returns\n",
    "\n",
    "string: a single string with newline characters ('\\n') where the breaks should be\n",
    "Input Format\n",
    "\n",
    "The first line contains a string, .\n",
    "The second line contains the width, .\n",
    "\n",
    "Constraints\n",
    "\n",
    "Sample Input 0\n",
    "\n",
    "ABCDEFGHIJKLIMNOQRSTUVWXYZ\n",
    "4\n",
    "Sample Output 0\n",
    "\n",
    "ABCD\n",
    "EFGH\n",
    "IJKL\n",
    "IMNO\n",
    "QRST\n",
    "UVWX\n",
    "YZ"
   ]
  },
  {
   "cell_type": "code",
   "execution_count": 5,
   "id": "fb68cc1a",
   "metadata": {},
   "outputs": [
    {
     "name": "stdout",
     "output_type": "stream",
     "text": [
      "ABCDEFGHIJKLIMNOQRSTUVWXYZ\n",
      "4\n",
      "ABCD\n",
      "EFGH\n",
      "IJKL\n",
      "IMNO\n",
      "QRST\n",
      "UVWX\n",
      "YZ\n"
     ]
    }
   ],
   "source": [
    "import textwrap\n",
    "\n",
    "def wrap(string, max_width):\n",
    "    width=0\n",
    "    for i in range(len(string)):\n",
    "        width=width+1\n",
    "        if(width==max_width):\n",
    "            width=0\n",
    "            print(string[i])\n",
    "        else:\n",
    "            print(string[i],end='')\n",
    "    return ''\n",
    "\n",
    "if __name__ == '__main__':\n",
    "    string, max_width = input(), int(input())\n",
    "    result = wrap(string, max_width)\n",
    "    print(result)"
   ]
  },
  {
   "cell_type": "code",
   "execution_count": 7,
   "id": "eca7b97e",
   "metadata": {},
   "outputs": [
    {
     "ename": "IndentationError",
     "evalue": "unindent does not match any outer indentation level (<tokenize>, line 38)",
     "output_type": "error",
     "traceback": [
      "\u001b[1;36m  File \u001b[1;32m<tokenize>:38\u001b[1;36m\u001b[0m\n\u001b[1;33m    10    12     A  1010\u001b[0m\n\u001b[1;37m    ^\u001b[0m\n\u001b[1;31mIndentationError\u001b[0m\u001b[1;31m:\u001b[0m unindent does not match any outer indentation level\n"
     ]
    }
   ],
   "source": [
    "Given an integer, , print the following values for each integer  from  to :\n",
    "\n",
    "Decimal\n",
    "Octal\n",
    "Hexadecimal (capitalized)\n",
    "Binary\n",
    "Function Description\n",
    "\n",
    "Complete the print_formatted function in the editor below.\n",
    "\n",
    "print_formatted has the following parameters:\n",
    "\n",
    "int number: the maximum value to print\n",
    "Prints\n",
    "\n",
    "The four values must be printed on a single line in the order specified above for each  from  to . Each value should be space-padded to match the width of the binary value of  and the values should be separated by a single space.\n",
    "\n",
    "Input Format\n",
    "\n",
    "A single integer denoting .\n",
    "\n",
    "Constraints\n",
    "\n",
    "Sample Input\n",
    "\n",
    "17\n",
    "Sample Output\n",
    "\n",
    "    1     1     1     1\n",
    "    2     2     2    10\n",
    "    3     3     3    11\n",
    "    4     4     4   100\n",
    "    5     5     5   101\n",
    "    6     6     6   110\n",
    "    7     7     7   111\n",
    "    8    10     8  1000\n",
    "    9    11     9  1001\n",
    "   10    12     A  1010\n",
    "   11    13     B  1011\n",
    "   12    14     C  1100\n",
    "   13    15     D  1101\n",
    "   14    16     E  1110\n",
    "   15    17     F  1111\n",
    "   16    20    10 10000\n",
    "   17    21    11 10001"
   ]
  },
  {
   "cell_type": "code",
   "execution_count": 8,
   "id": "d8a95395",
   "metadata": {},
   "outputs": [
    {
     "name": "stdout",
     "output_type": "stream",
     "text": [
      "17\n",
      "    1     1     1     1\n",
      "    2     2     2    10\n",
      "    3     3     3    11\n",
      "    4     4     4   100\n",
      "    5     5     5   101\n",
      "    6     6     6   110\n",
      "    7     7     7   111\n",
      "    8    10     8  1000\n",
      "    9    11     9  1001\n",
      "   10    12     A  1010\n",
      "   11    13     B  1011\n",
      "   12    14     C  1100\n",
      "   13    15     D  1101\n",
      "   14    16     E  1110\n",
      "   15    17     F  1111\n",
      "   16    20    10 10000\n",
      "   17    21    11 10001\n"
     ]
    }
   ],
   "source": [
    "def print_formatted(number):\n",
    "    # your code goes here\n",
    "    width = len(\"{0:b}\".format(number))\n",
    "\n",
    "    for i in range(1, number + 1):\n",
    "        print(\"{0:{w}d} {0:{w}o} {0:{w}X} {0:{w}b}\".format(i, w = width))\n",
    "\n",
    "\n",
    "if __name__ == '__main__':\n",
    "    n = int(input())\n",
    "    print_formatted(n)"
   ]
  },
  {
   "cell_type": "code",
   "execution_count": null,
   "id": "21931650",
   "metadata": {},
   "outputs": [],
   "source": []
  }
 ],
 "metadata": {
  "kernelspec": {
   "display_name": "Python 3 (ipykernel)",
   "language": "python",
   "name": "python3"
  },
  "language_info": {
   "codemirror_mode": {
    "name": "ipython",
    "version": 3
   },
   "file_extension": ".py",
   "mimetype": "text/x-python",
   "name": "python",
   "nbconvert_exporter": "python",
   "pygments_lexer": "ipython3",
   "version": "3.11.5"
  }
 },
 "nbformat": 4,
 "nbformat_minor": 5
}
