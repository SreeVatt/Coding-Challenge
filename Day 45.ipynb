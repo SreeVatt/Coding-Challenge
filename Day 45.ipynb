{
 "cells": [
  {
   "cell_type": "raw",
   "id": "cba3c443",
   "metadata": {},
   "source": [
    "A factory has n machines which can be used to make products. Your goal is to make a total of t products.\n",
    "For each machine, you know the number of seconds it needs to make a single product. The machines can work simultaneously, and you can freely decide their schedule.\n",
    "What is the shortest time needed to make t products?\n",
    "Input\n",
    "The first input line has two integers n and t: the number of machines and products.\n",
    "The next line has n integers k_1,k_2,\\dots,k_n: the time needed to make a product using each machine.\n",
    "Output\n",
    "Print one integer: the minimum time needed to make t products.\n",
    "Constraints\n",
    "\n",
    "1 \\le n \\le 2 \\cdot 10^5\n",
    "1 \\le t \\le 10^9\n",
    "1 \\le k_i \\le 10^9\n",
    "\n",
    "Example\n",
    "Input:\n",
    "3 7\n",
    "3 2 5\n",
    "\n",
    "Output:\n",
    "8\n",
    "\n",
    "Explanation: Machine 1 makes two products, machine 2 makes four products and machine 3 makes one product."
   ]
  },
  {
   "cell_type": "code",
   "execution_count": 1,
   "id": "9902bb2e",
   "metadata": {},
   "outputs": [
    {
     "name": "stdout",
     "output_type": "stream",
     "text": [
      "3 7\n",
      "3 2 5\n",
      "8\n"
     ]
    }
   ],
   "source": [
    "def min_time_to_produce(n, t, machines):\n",
    "    low, high = 1, t * min(machines)\n",
    "    \n",
    "    while low < high:\n",
    "        mid = (low + high) // 2\n",
    "        total = sum(mid // k for k in machines)\n",
    "        \n",
    "        if total >= t:\n",
    "            high = mid \n",
    "        else:\n",
    "            low = mid + 1 \n",
    "    \n",
    "    return low\n",
    "\n",
    "n, t = map(int, input().split())\n",
    "machines = list(map(int, input().split()))\n",
    "\n",
    "print(min_time_to_produce(n, t, machines))\n"
   ]
  },
  {
   "cell_type": "code",
   "execution_count": null,
   "id": "2cb98f8e",
   "metadata": {},
   "outputs": [],
   "source": []
  }
 ],
 "metadata": {
  "kernelspec": {
   "display_name": "Python 3 (ipykernel)",
   "language": "python",
   "name": "python3"
  },
  "language_info": {
   "codemirror_mode": {
    "name": "ipython",
    "version": 3
   },
   "file_extension": ".py",
   "mimetype": "text/x-python",
   "name": "python",
   "nbconvert_exporter": "python",
   "pygments_lexer": "ipython3",
   "version": "3.11.5"
  }
 },
 "nbformat": 4,
 "nbformat_minor": 5
}
