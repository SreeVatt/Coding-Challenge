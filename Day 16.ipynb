{
 "cells": [
  {
   "cell_type": "markdown",
   "id": "13104436",
   "metadata": {},
   "source": [
    "Merge Sort is a divide-and-conquer algorithm that efficiently sorts elements by dividing the array into halves, sorting each half recursively, and then merging the sorted halves.\n",
    "\n",
    "Algorithm:\n",
    "\n",
    "Divide: If the array contains more than one element, divide it into two halves.\n",
    "Conquer: Recursively sort each half using Merge Sort.\n",
    "Combine: Merge the sorted halves into a single sorted array.\n",
    "\n",
    "Time Complexity:\n",
    "\n",
    "Worst case: O(n log n)\n",
    "Best case: O(n log n)\n",
    "Average case: O(n log n)\n",
    "Space Complexity:\n",
    "\n",
    "O(n) (due to the extra space required for the temporary arrays during the merge process)\n",
    "Advantages:\n",
    "\n",
    "Efficient for large arrays due to its O(n log n) time complexity.\n",
    "Stable (preserves the relative order of equal elements).\n",
    "Can be used for external sorting (when the data doesn't fit entirely in memory).\n",
    "Disadvantages:\n",
    "\n",
    "Requires additional space for the temporary arrays.\n",
    "Can be slower than Quicksort in practice, especially for small arrays or when the pivot selection is optimized."
   ]
  },
  {
   "cell_type": "code",
   "execution_count": 1,
   "id": "28782507",
   "metadata": {},
   "outputs": [
    {
     "name": "stdout",
     "output_type": "stream",
     "text": [
      "Sorted array:\n",
      "[11, 12, 22, 25, 34, 64, 90]\n"
     ]
    }
   ],
   "source": [
    "def merge_sort(arr):\n",
    "    if len(arr) > 1:\n",
    "        mid = len(arr) // 2\n",
    "\n",
    "        # Divide the array into two halves\n",
    "        left_half = arr[:mid]\n",
    "        right_half = arr[mid:]\n",
    "\n",
    "        # Recursively sort each half\n",
    "        merge_sort(left_half)\n",
    "        merge_sort(right_half)\n",
    "\n",
    "        # Merge the sorted halves\n",
    "        merge(arr, left_half, right_half)\n",
    "\n",
    "def merge(arr, left_half, right_half):\n",
    "    i = j = k = 0\n",
    "\n",
    "    # Merge the sorted halves into the original array\n",
    "    while i < len(left_half) and j < len(right_half):\n",
    "        if left_half[i] <= right_half[j]:\n",
    "            arr[k] = left_half[i]\n",
    "            i += 1\n",
    "        else:\n",
    "            arr[k] = right_half[j]\n",
    "            j += 1\n",
    "        k += 1\n",
    "\n",
    "    # Copy the remaining elements from left_half, if any\n",
    "    while i < len(left_half):\n",
    "        arr[k] = left_half[i]\n",
    "        i += 1\n",
    "        k += 1\n",
    "\n",
    "    # Copy the remaining elements from right_half, if any\n",
    "    while j < len(right_half):\n",
    "        arr[k] = right_half[j]\n",
    "        j += 1\n",
    "        k += 1\n",
    "\n",
    "# Example usage:\n",
    "arr = [64, 34, 25, 12, 22, 11, 90]\n",
    "merge_sort(arr)\n",
    "\n",
    "print(\"Sorted array:\")\n",
    "print(arr)"
   ]
  },
  {
   "cell_type": "code",
   "execution_count": null,
   "id": "1ccdaff6",
   "metadata": {},
   "outputs": [],
   "source": []
  }
 ],
 "metadata": {
  "kernelspec": {
   "display_name": "Python 3 (ipykernel)",
   "language": "python",
   "name": "python3"
  },
  "language_info": {
   "codemirror_mode": {
    "name": "ipython",
    "version": 3
   },
   "file_extension": ".py",
   "mimetype": "text/x-python",
   "name": "python",
   "nbconvert_exporter": "python",
   "pygments_lexer": "ipython3",
   "version": "3.11.5"
  }
 },
 "nbformat": 4,
 "nbformat_minor": 5
}
