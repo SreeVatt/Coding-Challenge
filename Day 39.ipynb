{
 "cells": [
  {
   "cell_type": "raw",
   "id": "ab023964",
   "metadata": {},
   "source": [
    "A border of a string is a prefix that is also a suffix of the string but not the whole string. For example, the borders of abcababcab are ab and abcab.\n",
    "Your task is to find all border lengths of a given string.\n",
    "Input\n",
    "The only input line has a string of length n consisting of characters a–z.\n",
    "Output\n",
    "Print all border lengths of the string in increasing order.\n",
    "Constraints\n",
    "\n",
    "1 \\le n \\le 10^6\n",
    "\n",
    "Example\n",
    "Input:\n",
    "abcababcab\n",
    "\n",
    "Output:\n",
    "2 5"
   ]
  },
  {
   "cell_type": "code",
   "execution_count": 5,
   "id": "d90a3c38",
   "metadata": {},
   "outputs": [
    {
     "name": "stdout",
     "output_type": "stream",
     "text": [
      "2 5 "
     ]
    }
   ],
   "source": [
    "s='abcababcab'\n",
    "\n",
    "for i in range(len(s)):\n",
    "    x=s[:i]\n",
    "    y=s[-i:]\n",
    "    if(x==y):\n",
    "        print(len(x),end=' ')"
   ]
  },
  {
   "cell_type": "code",
   "execution_count": null,
   "id": "3d6ea6ab",
   "metadata": {},
   "outputs": [],
   "source": []
  }
 ],
 "metadata": {
  "kernelspec": {
   "display_name": "Python 3 (ipykernel)",
   "language": "python",
   "name": "python3"
  },
  "language_info": {
   "codemirror_mode": {
    "name": "ipython",
    "version": 3
   },
   "file_extension": ".py",
   "mimetype": "text/x-python",
   "name": "python",
   "nbconvert_exporter": "python",
   "pygments_lexer": "ipython3",
   "version": "3.11.5"
  }
 },
 "nbformat": 4,
 "nbformat_minor": 5
}
