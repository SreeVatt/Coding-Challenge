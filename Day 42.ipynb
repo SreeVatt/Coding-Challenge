{
 "cells": [
  {
   "cell_type": "raw",
   "id": "2f7be6f3",
   "metadata": {},
   "source": [
    "Your task is to place eight queens on a chessboard so that no two queens are attacking each other. As an additional challenge, each square is either free or reserved, and you can only place queens on the free squares. However, the reserved squares do not prevent queens from attacking each other.\n",
    "\n",
    "How many possible ways are there to place the queens?\n",
    "\n",
    "Input\n",
    "The input has eight lines, and each of them has eight characters. Each square is either free (.) or reserved (*).\n",
    "\n",
    "Output\n",
    "Print one integer: the number of ways you can place the queens.\n",
    "\n",
    "Example\n",
    "Input:\n",
    "\n",
    "........\n",
    "........\n",
    "..*.....\n",
    "........\n",
    "........\n",
    ".....**.\n",
    "...*....\n",
    "........\n",
    "Output:\n",
    "\n",
    "65"
   ]
  },
  {
   "cell_type": "code",
   "execution_count": null,
   "id": "0dc406c7",
   "metadata": {},
   "outputs": [],
   "source": [
    "def count_ways_to_place_queens(board):\n",
    "    def is_safe(row, col):\n",
    "        return not (columns[col] or diagonals1[row - col] or diagonals2[row + col])\n",
    "\n",
    "    def place_queen(row):\n",
    "        if row == 8:\n",
    "            return 1\n",
    "        count = 0\n",
    "        for col in range(8):\n",
    "            if board[row][col] == '.' and is_safe(row, col):\n",
    "\n",
    "                columns[col] = diagonals1[row - col] = diagonals2[row + col] = True\n",
    "                count += place_queen(row + 1)\n",
    "                columns[col] = diagonals1[row - col] = diagonals2[row + col] = False\n",
    "        return count\n",
    "\n",
    "    columns = [False] * 8\n",
    "    diagonals1 = [False] * 15  \n",
    "    diagonals2 = [False] * 15 \n",
    "    return place_queen(0)\n",
    "\n",
    "# Input\n",
    "board = [input().strip() for _ in range(8)]\n",
    "\n",
    "# Output\n",
    "print(count_ways_to_place_queens(board))\n"
   ]
  }
 ],
 "metadata": {
  "kernelspec": {
   "display_name": "Python 3 (ipykernel)",
   "language": "python",
   "name": "python3"
  },
  "language_info": {
   "codemirror_mode": {
    "name": "ipython",
    "version": 3
   },
   "file_extension": ".py",
   "mimetype": "text/x-python",
   "name": "python",
   "nbconvert_exporter": "python",
   "pygments_lexer": "ipython3",
   "version": "3.11.5"
  }
 },
 "nbformat": 4,
 "nbformat_minor": 5
}
