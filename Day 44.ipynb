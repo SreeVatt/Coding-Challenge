{
 "cells": [
  {
   "cell_type": "raw",
   "id": "ead6a550",
   "metadata": {},
   "source": [
    "There is a street of length x whose positions are numbered 0,1,\\ldots,x. Initially there are no traffic lights, but n sets of traffic lights are added to the street one after another.\n",
    "Your task is to calculate the length of the longest passage without traffic lights after each addition.\n",
    "Input\n",
    "The first input line contains two integers x and n: the length of the street and the number of sets of traffic lights.\n",
    "Then, the next line contains n integers p_1,p_2,\\ldots,p_n: the position of each set of traffic lights. Each position is distinct.\n",
    "Output\n",
    "Print the length of the longest passage without traffic lights after each addition.\n",
    "Constraints\n",
    "\n",
    "1 \\le x \\le 10^9\n",
    "1 \\le n \\le 2 \\cdot 10^5\n",
    "0 < p_i < x\n",
    "\n",
    "Example\n",
    "Input:\n",
    "8 3\n",
    "3 6 2\n",
    "\n",
    "Output:\n",
    "5 3 3"
   ]
  },
  {
   "cell_type": "code",
   "execution_count": 1,
   "id": "7f517d87",
   "metadata": {},
   "outputs": [
    {
     "name": "stdout",
     "output_type": "stream",
     "text": [
      "8 3\n",
      "3 6 2\n",
      "5 3 3\n"
     ]
    }
   ],
   "source": [
    "from sortedcontainers import SortedList\n",
    "\n",
    "def traffic_lights(x, n, positions):\n",
    "    lights = SortedList([0, x])  \n",
    "    segments = SortedList([x])  \n",
    "    \n",
    "    result = []\n",
    "    \n",
    "    for p in positions:\n",
    "        idx = lights.bisect(p)\n",
    "        left = lights[idx - 1]\n",
    "        right = lights[idx]\n",
    "        \n",
    "        segments.remove(right - left)\n",
    "        segments.add(p - left)\n",
    "        segments.add(right - p)\n",
    "        \n",
    "        lights.add(p)\n",
    "        \n",
    "        result.append(segments[-1])\n",
    "    \n",
    "    return result\n",
    "\n",
    "\n",
    "x, n = map(int, input().split())\n",
    "positions = list(map(int, input().split()))\n",
    "\n",
    "output = traffic_lights(x, n, positions)\n",
    "print(\" \".join(map(str, output)))\n"
   ]
  },
  {
   "cell_type": "code",
   "execution_count": null,
   "id": "49f08b3f",
   "metadata": {},
   "outputs": [],
   "source": []
  }
 ],
 "metadata": {
  "kernelspec": {
   "display_name": "Python 3 (ipykernel)",
   "language": "python",
   "name": "python3"
  },
  "language_info": {
   "codemirror_mode": {
    "name": "ipython",
    "version": 3
   },
   "file_extension": ".py",
   "mimetype": "text/x-python",
   "name": "python",
   "nbconvert_exporter": "python",
   "pygments_lexer": "ipython3",
   "version": "3.11.5"
  }
 },
 "nbformat": 4,
 "nbformat_minor": 5
}
