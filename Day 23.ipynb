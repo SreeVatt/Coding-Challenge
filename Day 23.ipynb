{
 "cells": [
  {
   "cell_type": "markdown",
   "id": "2578ddcd",
   "metadata": {},
   "source": [
    "### Bubble Sort"
   ]
  },
  {
   "cell_type": "code",
   "execution_count": 10,
   "id": "3f420e3f",
   "metadata": {},
   "outputs": [],
   "source": [
    "def Bubble_Sort(arr):\n",
    "    n=len(arr)\n",
    "    for i in range(n):\n",
    "        \n",
    "        for j in range(0,n-i-1):\n",
    "            if(arr[j]>arr[j+1]):\n",
    "                arr[j],arr[j+1]=arr[j+1],arr[j]\n",
    "                \n",
    "            \n",
    "    return arr\n",
    "            "
   ]
  },
  {
   "cell_type": "code",
   "execution_count": 12,
   "id": "1c4cbfb6",
   "metadata": {},
   "outputs": [
    {
     "name": "stdout",
     "output_type": "stream",
     "text": [
      "[-2, 3, 5, 9, 15, 21, 56, 84, 84, 156, 849]\n"
     ]
    }
   ],
   "source": [
    "arr=[15,9,156,-2,84,849,3,56,84,21,5]\n",
    "print(Bubble_Sort(arr))"
   ]
  },
  {
   "cell_type": "markdown",
   "id": "5b0d61f8",
   "metadata": {},
   "source": [
    "### INSERTION SORT"
   ]
  },
  {
   "cell_type": "code",
   "execution_count": 65,
   "id": "5f6fd94c",
   "metadata": {},
   "outputs": [],
   "source": [
    "def Insertion_Sort(arr):\n",
    "    for i in range(len(arr)):\n",
    "        key=arr[i]\n",
    "        j=i-1\n",
    "        print(key)\n",
    "        while(j>=0 and key<arr[j]):\n",
    "            arr[j+1],arr[j]=arr[j],arr[j+1]\n",
    "            print(arr)\n",
    "            j-=1\n",
    "    return arr\n"
   ]
  },
  {
   "cell_type": "code",
   "execution_count": 66,
   "id": "89b1790a",
   "metadata": {},
   "outputs": [
    {
     "name": "stdout",
     "output_type": "stream",
     "text": [
      "23\n",
      "1\n",
      "[1, 23, 10, 5, 2]\n",
      "10\n",
      "[1, 10, 23, 5, 2]\n",
      "5\n",
      "[1, 10, 5, 23, 2]\n",
      "[1, 5, 10, 23, 2]\n",
      "2\n",
      "[1, 5, 10, 2, 23]\n",
      "[1, 5, 2, 10, 23]\n",
      "[1, 2, 5, 10, 23]\n",
      "[1, 2, 5, 10, 23]\n"
     ]
    }
   ],
   "source": [
    "print(Insertion_Sort([23,1,10,5,2]))"
   ]
  }
 ],
 "metadata": {
  "kernelspec": {
   "display_name": "Python 3 (ipykernel)",
   "language": "python",
   "name": "python3"
  },
  "language_info": {
   "codemirror_mode": {
    "name": "ipython",
    "version": 3
   },
   "file_extension": ".py",
   "mimetype": "text/x-python",
   "name": "python",
   "nbconvert_exporter": "python",
   "pygments_lexer": "ipython3",
   "version": "3.11.5"
  }
 },
 "nbformat": 4,
 "nbformat_minor": 5
}
