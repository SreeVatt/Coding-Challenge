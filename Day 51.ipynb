{
 "cells": [
  {
   "cell_type": "raw",
   "id": "7530411c",
   "metadata": {},
   "source": [
    "In a movie festival, n movies will be shown. Syrjälä's movie club consists of k members, who will be all attending the festival.\n",
    "You know the starting and ending time of each movie. What is the maximum total number of movies the club members can watch entirely if they act optimally?\n",
    "Input\n",
    "The first input line has two integers n and k: the number of movies and club members.\n",
    "After this, there are n lines that describe the movies. Each line has two integers a and b: the starting and ending time of a movie.\n",
    "Output\n",
    "Print one integer: the maximum total number of movies.\n",
    "Constraints\n",
    "\n",
    "1 \\le k \\le n \\le 2 \\cdot 10^5\n",
    "1 \\le a < b \\le 10^9\n",
    "\n",
    "Example\n",
    "Input:\n",
    "5 2\n",
    "1 5\n",
    "8 10\n",
    "3 6\n",
    "2 5\n",
    "6 9\n",
    "\n",
    "Output:\n",
    "4"
   ]
  },
  {
   "cell_type": "code",
   "execution_count": null,
   "id": "b64dd461",
   "metadata": {},
   "outputs": [],
   "source": [
    "import heapq\n",
    "\n",
    "def max_movies(n, k, movies):\n",
    "    movies.sort(key=lambda x: x[1])\n",
    "    \n",
    "    available_times = [0] * k \n",
    "    heapq.heapify(available_times)\n",
    "    \n",
    "    attended_movies = 0\n",
    "    \n",
    "    for start, end in movies:\n",
    "        earliest_available_time = heapq.heappop(available_times)\n",
    "        \n",
    "        if earliest_available_time <= start:\n",
    "            heapq.heappush(available_times, end)\n",
    "            attended_movies += 1\n",
    "        else:\n",
    "            heapq.heappush(available_times, earliest_available_time)\n",
    "    \n",
    "    return attended_movies\n",
    "\n",
    "n, k = map(int, input().split())\n",
    "movies = [tuple(map(int, input().split())) for _ in range(n)]\n",
    "\n",
    "print(max_movies(n, k, movies))\n"
   ]
  }
 ],
 "metadata": {
  "kernelspec": {
   "display_name": "Python 3 (ipykernel)",
   "language": "python",
   "name": "python3"
  },
  "language_info": {
   "codemirror_mode": {
    "name": "ipython",
    "version": 3
   },
   "file_extension": ".py",
   "mimetype": "text/x-python",
   "name": "python",
   "nbconvert_exporter": "python",
   "pygments_lexer": "ipython3",
   "version": "3.11.5"
  }
 },
 "nbformat": 4,
 "nbformat_minor": 5
}
