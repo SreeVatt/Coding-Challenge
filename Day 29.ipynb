{
 "cells": [
  {
   "cell_type": "raw",
   "id": "8bfdf7a2",
   "metadata": {},
   "source": [
    "There are n children who want to go to a Ferris wheel, and your task is to find a gondola for each child.\n",
    "Each gondola may have one or two children in it, and in addition, the total weight in a gondola may not exceed x. You know the weight of every child.\n",
    "What is the minimum number of gondolas needed for the children?\n",
    "Input\n",
    "The first input line contains two integers n and x: the number of children and the maximum allowed weight.\n",
    "The next line contains n integers p_1,p_2,\\ldots,p_n: the weight of each child.\n",
    "Output\n",
    "Print one integer: the minimum number of gondolas.\n",
    "Constraints\n",
    "\n",
    "1 \\le n \\le 2 \\cdot 10^5\n",
    "1 \\le x \\le 10^9\n",
    "1 \\le p_i \\le x\n",
    "\n",
    "Example\n",
    "Input:\n",
    "4 10\n",
    "7 2 3 9\n",
    "\n",
    "Output:\n",
    "3"
   ]
  },
  {
   "cell_type": "code",
   "execution_count": 25,
   "id": "a5b0ae5b",
   "metadata": {},
   "outputs": [
    {
     "name": "stdout",
     "output_type": "stream",
     "text": [
      "3 1\n",
      "1\n",
      "1\n",
      "1\n",
      "3\n"
     ]
    }
   ],
   "source": [
    "'''\n",
    "N-> Child\n",
    "1/2child in Gondola\n",
    "X->Gondola max wt \n",
    "output-> minimum Gondola req\n",
    "\n",
    "n,x->childern, max wt\n",
    "w1,w2,wn->wt of childeren\n",
    "\n",
    "Input:\n",
    "4 10\n",
    "7 2 3 9\n",
    "\n",
    "Output:\n",
    "3\n",
    "\n",
    "\n",
    "sort 2 3 7 9\n",
    "\n",
    "2+9=11 X +1\n",
    "3+7=10 0\n",
    "\n",
    "5 10\n",
    "8 1 6 2 3\n",
    "1 2 3 6 8\n",
    "\n",
    "3\n",
    "\n",
    "\n",
    "'''\n",
    "\n",
    "n,x=input().split()\n",
    "wt=[]\n",
    "for i in range(int(n)):\n",
    "    inp=int(input())\n",
    "    wt.append(inp)\n",
    "    \n",
    "wt.sort()\n",
    "count=0\n",
    "\n",
    "for i in wt:\n",
    "    for j in wt[::-1]:\n",
    "        if(i+j<int(x)):\n",
    "            wt.remove(i)\n",
    "            wt.remove(j)\n",
    "            count+=1\n",
    "            break\n",
    "        else:\n",
    "            wt.remove(j)\n",
    "            count+=1\n",
    "            \n",
    "        \n",
    "print(count+len(wt))\n"
   ]
  },
  {
   "cell_type": "raw",
   "id": "565a5af6",
   "metadata": {},
   "source": [
    "There are n concert tickets available, each with a certain price. Then, m customers arrive, one after another.\n",
    "Each customer announces the maximum price they are willing to pay for a ticket, and after this, they will get a ticket with the nearest possible price such that it does not exceed the maximum price.\n",
    "Input\n",
    "The first input line contains integers n and m: the number of tickets and the number of customers.\n",
    "The next line contains n integers h_1,h_2,\\ldots,h_n: the price of each ticket.\n",
    "The last line contains m integers t_1,t_2,\\ldots,t_m: the maximum price for each customer in the order they arrive.\n",
    "Output\n",
    "Print, for each customer, the price that they will pay for their ticket. After this, the ticket cannot be purchased again.\n",
    "If a customer cannot get any ticket, print -1.\n",
    "Constraints\n",
    "\n",
    "1 \\le n, m \\le 2 \\cdot 10^5\n",
    "1 \\le h_i, t_i \\le 10^9\n",
    "\n",
    "Example\n",
    "Input:\n",
    "5 3\n",
    "5 3 7 8 5\n",
    "4 8 3\n",
    "\n",
    "Output:\n",
    "3\n",
    "8\n",
    "-1"
   ]
  },
  {
   "cell_type": "code",
   "execution_count": 22,
   "id": "da720e3f",
   "metadata": {},
   "outputs": [
    {
     "name": "stdout",
     "output_type": "stream",
     "text": [
      "5 3\n",
      "5 3 7 8 5\n",
      "4 8 3\n",
      "3\n",
      "8\n",
      "-1\n"
     ]
    }
   ],
   "source": [
    "'''\n",
    "There are N tickets in the concert, each certain price\n",
    "m customers annouces max price, they get ticket with nearest cost but not exceeding the max cost\n",
    "\n",
    "Input\n",
    "n,m->no of tic,no of cust\n",
    "h1,h2..hn-> price of each ticket\n",
    "t1,t2...tn-> Max price for each customer\n",
    "\n",
    "'''\n",
    "\n",
    "n,m=input().split()\n",
    "h=input().split()\n",
    "t=input().split()\n",
    "\n",
    "\n",
    "\n",
    "for i in t:\n",
    "    temp=[]\n",
    "    for j in h:\n",
    "        if(int(j)<=int(i)):\n",
    "            temp.append(int(j))\n",
    "    if(len(temp)!=0):\n",
    "        x=max(temp)\n",
    "        print(x)\n",
    "        h.remove(str(x))\n",
    "    else:\n",
    "        print(-1)\n",
    "        "
   ]
  }
 ],
 "metadata": {
  "kernelspec": {
   "display_name": "Python 3 (ipykernel)",
   "language": "python",
   "name": "python3"
  },
  "language_info": {
   "codemirror_mode": {
    "name": "ipython",
    "version": 3
   },
   "file_extension": ".py",
   "mimetype": "text/x-python",
   "name": "python",
   "nbconvert_exporter": "python",
   "pygments_lexer": "ipython3",
   "version": "3.11.5"
  }
 },
 "nbformat": 4,
 "nbformat_minor": 5
}
