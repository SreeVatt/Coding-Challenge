{
 "cells": [
  {
   "cell_type": "markdown",
   "id": "588bb8f9",
   "metadata": {},
   "source": [
    "# DAY4\n"
   ]
  },
  {
   "cell_type": "markdown",
   "id": "150c0c3a",
   "metadata": {},
   "source": [
    "Consider a list (list = []). You can perform the following commands:\n",
    "\n",
    "insert i e: Insert integer  at position .\n",
    "print: Print the list.\n",
    "remove e: Delete the first occurrence of integer .\n",
    "append e: Insert integer  at the end of the list.\n",
    "sort: Sort the list.\n",
    "pop: Pop the last element from the list.\n",
    "reverse: Reverse the list.\n",
    "Initialize your list and read in the value of  followed by  lines of commands where each command will be of the  types listed above. Iterate through each command in order and perform the corresponding operation on your list.\n",
    "\n",
    "Example\n",
    "\n",
    "\n",
    "\n",
    "\n",
    "\n",
    ": Append  to the list, .\n",
    ": Append  to the list, .\n",
    ": Insert  at index , .\n",
    ": Print the array.\n",
    "Output:\n",
    "[1, 3, 2]\n",
    "Input Format\n",
    "\n",
    "The first line contains an integer, , denoting the number of commands.\n",
    "Each line  of the  subsequent lines contains one of the commands described above.\n",
    "\n",
    "Constraints\n",
    "\n",
    "The elements added to the list must be integers.\n",
    "Output Format\n",
    "\n",
    "For each command of type print, print the list on a new line.\n",
    "\n",
    "Sample Input 0\n",
    "\n",
    "12\n",
    "insert 0 5\n",
    "insert 1 10\n",
    "insert 0 6\n",
    "print\n",
    "remove 6\n",
    "append 9\n",
    "append 1\n",
    "sort\n",
    "print\n",
    "pop\n",
    "reverse\n",
    "print\n",
    "Sample Output 0\n",
    "\n",
    "[6, 5, 10]\n",
    "[1, 5, 9, 10]\n",
    "[9, 5, 1]"
   ]
  },
  {
   "cell_type": "code",
   "execution_count": null,
   "id": "dcbf8f7a",
   "metadata": {},
   "outputs": [
    {
     "name": "stdout",
     "output_type": "stream",
     "text": [
      "12\n",
      "insert 0 5\n",
      "insert 1 10\n",
      "insert 0 6\n",
      "print\n",
      "[6, 5, 10]\n"
     ]
    }
   ],
   "source": [
    "if __name__ == '__main__':\n",
    "    N = int(input())\n",
    "    arr=[]\n",
    "    for i in range(N):\n",
    "        inp=input().split()\n",
    "        \n",
    "        if (inp[0]=='print'):\n",
    "            print(arr)\n",
    "        elif(inp[0]=='insert'):\n",
    "            arr.insert(int(inp[1]),int(inp[2]))\n",
    "        elif(inp[0]=='append'):\n",
    "            arr.append(int(inp[1]))\n",
    "        elif(inp[0]=='remove'):\n",
    "            arr.remove(int(inp[1]))\n",
    "        elif(inp[0]=='pop'):\n",
    "            arr.pop()\n",
    "        elif(inp[0]=='sort'):\n",
    "            arr.sort()\n",
    "        elif(inp[0]=='reverse'):\n",
    "            arr=arr[::-1]\n",
    "     "
   ]
  },
  {
   "cell_type": "code",
   "execution_count": null,
   "id": "7f2137f0",
   "metadata": {},
   "outputs": [],
   "source": []
  }
 ],
 "metadata": {
  "kernelspec": {
   "display_name": "Python 3 (ipykernel)",
   "language": "python",
   "name": "python3"
  },
  "language_info": {
   "codemirror_mode": {
    "name": "ipython",
    "version": 3
   },
   "file_extension": ".py",
   "mimetype": "text/x-python",
   "name": "python",
   "nbconvert_exporter": "python",
   "pygments_lexer": "ipython3",
   "version": "3.11.5"
  }
 },
 "nbformat": 4,
 "nbformat_minor": 5
}
