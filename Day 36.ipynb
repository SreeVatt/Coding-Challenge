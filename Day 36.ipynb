{
 "cells": [
  {
   "cell_type": "raw",
   "id": "dc7d331a",
   "metadata": {},
   "source": [
    "You are given an array that contains each number between 1 \\dots n exactly once. Your task is to collect the numbers from 1 to n in increasing order.\n",
    "On each round, you go through the array from left to right and collect as many numbers as possible. What will be the total number of rounds?\n",
    "Input\n",
    "The first line has an integer n: the array size.\n",
    "The next line has n integers x_1,x_2,\\dots,x_n: the numbers in the array.\n",
    "Output\n",
    "Print one integer: the number of rounds.\n",
    "Constraints\n",
    "\n",
    "1 \\le n \\le 2 \\cdot 10^5\n",
    "\n",
    "Example\n",
    "Input:\n",
    "5\n",
    "4 2 1 5 3\n",
    "\n",
    "Output:\n",
    "3"
   ]
  },
  {
   "cell_type": "code",
   "execution_count": 3,
   "id": "fe655119",
   "metadata": {
    "scrolled": true
   },
   "outputs": [
    {
     "name": "stdout",
     "output_type": "stream",
     "text": [
      "3\n"
     ]
    }
   ],
   "source": [
    "n=5\n",
    "c=[4,2,1,5,3]\n",
    "S=1\n",
    "r=0\n",
    "for i in range(n):\n",
    "    r+=1\n",
    "    for j in range(n):\n",
    "        if(c[j]==S):\n",
    "            S+=1\n",
    "    if(S>=max(c)):\n",
    "        break\n",
    "\n",
    "        \n",
    "print(r)\n",
    "            "
   ]
  },
  {
   "cell_type": "raw",
   "id": "1ba37fc9",
   "metadata": {},
   "source": [
    "You are given an array that contains each number between 1 \\dots n exactly once. Your task is to collect the numbers from 1 to n in increasing order.\n",
    "On each round, you go through the array from left to right and collect as many numbers as possible.\n",
    "Given m operations that swap two numbers in the array, your task is to report the number of rounds after each operation.\n",
    "Input\n",
    "The first line has two integers n and m: the array size and the number of operations.\n",
    "The next line has n integers x_1,x_2,\\dots,x_n: the numbers in the array.\n",
    "Finally, there are m lines that describe the operations. Each line has two integers a and b: the numbers at positions a and b are swapped.\n",
    "Output\n",
    "Print m integers: the number of rounds after each swap.\n",
    "Constraints\n",
    "\n",
    "1 \\le n, m \\le 2 \\cdot 10^5\n",
    "1 \\le a,b \\le n\n",
    "\n",
    "Example\n",
    "Input:\n",
    "5 3\n",
    "4 2 1 5 3\n",
    "2 3\n",
    "1 5\n",
    "2 3\n",
    "\n",
    "Output:\n",
    "2\n",
    "3\n",
    "4"
   ]
  },
  {
   "cell_type": "code",
   "execution_count": 37,
   "id": "b8267753",
   "metadata": {},
   "outputs": [
    {
     "name": "stdout",
     "output_type": "stream",
     "text": [
      "2\n",
      "3\n",
      "4\n"
     ]
    }
   ],
   "source": [
    "def Coin_count(n,C,M):\n",
    "    S=1\n",
    "    r=0\n",
    "    for j in range(len(M)):\n",
    "        a=M[j][0]\n",
    "        b=M[j][1]\n",
    "        x=C[a-1]\n",
    "        y=C[b-1]\n",
    "        C[b-1],C[a-1]=x,y\n",
    "        for i in range(n):\n",
    "            r+=1\n",
    "            for j in range(n):\n",
    "                if(C[j]==S):\n",
    "                    S+=1\n",
    "            if(S>max(C)):\n",
    "                break\n",
    "        print(r)\n",
    "\n",
    "\n",
    "n,x=5,3\n",
    "c=[4,2,1,5,3]\n",
    "s=[[2,3],[1,5],[5,3]]\n",
    "Coin_count(n,c,s)\n",
    "\n",
    "\n",
    "     \n",
    "          "
   ]
  }
 ],
 "metadata": {
  "kernelspec": {
   "display_name": "Python 3 (ipykernel)",
   "language": "python",
   "name": "python3"
  },
  "language_info": {
   "codemirror_mode": {
    "name": "ipython",
    "version": 3
   },
   "file_extension": ".py",
   "mimetype": "text/x-python",
   "name": "python",
   "nbconvert_exporter": "python",
   "pygments_lexer": "ipython3",
   "version": "3.11.5"
  }
 },
 "nbformat": 4,
 "nbformat_minor": 5
}
