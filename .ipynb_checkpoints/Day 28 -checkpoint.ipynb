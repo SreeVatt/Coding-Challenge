{
 "cells": [
  {
   "cell_type": "raw",
   "id": "222e9ecb",
   "metadata": {},
   "source": [
    "You are given a list of n integers, and your task is to calculate the number of distinct values in the list.\n",
    "Input\n",
    "The first input line has an integer n: the number of values.\n",
    "The second line has n integers x_1,x_2,\\dots,x_n.\n",
    "Output\n",
    "Print one integers: the number of distinct values.\n",
    "Constraints\n",
    "\n",
    "1 \\le n \\le 2 \\cdot 10^5\n",
    "1 \\le x_i \\le 10^9\n",
    "\n",
    "Example\n",
    "Input:\n",
    "5\n",
    "2 3 2 2 3\n",
    "\n",
    "Output:\n",
    "2"
   ]
  },
  {
   "cell_type": "code",
   "execution_count": 15,
   "id": "1a5efcda",
   "metadata": {},
   "outputs": [
    {
     "name": "stdout",
     "output_type": "stream",
     "text": [
      "5\n",
      "1\n",
      "2\n",
      "3\n",
      "1\n",
      "2\n",
      "4\n"
     ]
    }
   ],
   "source": [
    "x=[]\n",
    "n=int(input())\n",
    "count=0\n",
    "for i in range(n):\n",
    "    inp=int(input())\n",
    "    if (inp not in x):\n",
    "        count+=1\n",
    "    x.append(inp)\n",
    "print(count+1)"
   ]
  },
  {
   "cell_type": "code",
   "execution_count": 9,
   "id": "f845e291",
   "metadata": {},
   "outputs": [
    {
     "name": "stdout",
     "output_type": "stream",
     "text": [
      "<class 'int'>2 5 6 \n",
      "2\n",
      "['2', '5', '6']\n"
     ]
    }
   ],
   "source": [
    "fygu\n",
    "\\x=input().split()\n",
    "n=int(input())\n",
    "print(x)\n",
    "count=0\n"
   ]
  },
  {
   "cell_type": "code",
   "execution_count": null,
   "id": "feb94c57",
   "metadata": {},
   "outputs": [],
   "source": []
  }
 ],
 "metadata": {
  "kernelspec": {
   "display_name": "Python 3 (ipykernel)",
   "language": "python",
   "name": "python3"
  },
  "language_info": {
   "codemirror_mode": {
    "name": "ipython",
    "version": 3
   },
   "file_extension": ".py",
   "mimetype": "text/x-python",
   "name": "python",
   "nbconvert_exporter": "python",
   "pygments_lexer": "ipython3",
   "version": "3.11.5"
  }
 },
 "nbformat": 4,
 "nbformat_minor": 5
}
