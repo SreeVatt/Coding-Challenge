{
 "cells": [
  {
   "cell_type": "raw",
   "id": "e2cdf0a6",
   "metadata": {},
   "source": [
    "You are given a playlist of a radio station since its establishment. The playlist has a total of n songs.\n",
    "What is the longest sequence of successive songs where each song is unique?\n",
    "Input\n",
    "The first input line contains an integer n: the number of songs.\n",
    "The next line has n integers k_1,k_2,\\ldots,k_n: the id number of each song.\n",
    "Output\n",
    "Print the length of the longest sequence of unique songs.\n",
    "Constraints\n",
    "\n",
    "1 \\le n \\le 2 \\cdot 10^5\n",
    "1 \\le k_i \\le 10^9\n",
    "\n",
    "Example\n",
    "Input:\n",
    "8\n",
    "1 2 1 3 2 7 4 2\n",
    "\n",
    "Output:\n",
    "5"
   ]
  },
  {
   "cell_type": "code",
   "execution_count": 8,
   "id": "74e50000",
   "metadata": {},
   "outputs": [
    {
     "name": "stdout",
     "output_type": "stream",
     "text": [
      "5\n"
     ]
    }
   ],
   "source": [
    "n=8\n",
    "p=[1,2,1,3,2,7,4,2]\n",
    "s=[]\n",
    "res=[]\n",
    "for i in p:\n",
    "    if(i not in s):\n",
    "        s.append(i)\n",
    "        \n",
    "    else:\n",
    "        res.append(len(s))\n",
    "        s=[]\n",
    "        s.append(i)\n",
    "        \n",
    "print(max(res))\n",
    "    "
   ]
  },
  {
   "cell_type": "raw",
   "id": "2858644e",
   "metadata": {},
   "source": [
    "You are given an integer n. On each step, you may subtract one of the digits from the number.\n",
    "How many steps are required to make the number equal to 0?\n",
    "Input\n",
    "The only input line has an integer n.\n",
    "Output\n",
    "Print one integer: the minimum number of steps.\n",
    "Constraints\n",
    "\n",
    "1 \\le n \\le 10^6\n",
    "\n",
    "Example\n",
    "Input:\n",
    "27\n",
    "\n",
    "Output:\n",
    "5\n",
    "\n",
    "Explanation: An optimal solution is 27 ->20 -> 18 ->10 -> 9 -> 0."
   ]
  },
  {
   "cell_type": "code",
   "execution_count": 16,
   "id": "e930a38d",
   "metadata": {},
   "outputs": [
    {
     "name": "stdout",
     "output_type": "stream",
     "text": [
      "5\n"
     ]
    }
   ],
   "source": [
    "def Sub(n,count=0):\n",
    "    if(n!=0):\n",
    "        X=StrCov(n)\n",
    "        Y=n-int(max(X))\n",
    "        Sub(Y,count+1)\n",
    "    else:\n",
    "        print(count)\n",
    "    \n",
    "\n",
    "def StrCov(n):\n",
    "    N=str(n)\n",
    "    string=[]\n",
    "    for i in range(len(N)):\n",
    "        string.append(N[i])\n",
    "    return string\n",
    "n=27\n",
    "Sub(n)\n",
    "\n",
    "\n",
    "    "
   ]
  }
 ],
 "metadata": {
  "kernelspec": {
   "display_name": "Python 3 (ipykernel)",
   "language": "python",
   "name": "python3"
  },
  "language_info": {
   "codemirror_mode": {
    "name": "ipython",
    "version": 3
   },
   "file_extension": ".py",
   "mimetype": "text/x-python",
   "name": "python",
   "nbconvert_exporter": "python",
   "pygments_lexer": "ipython3",
   "version": "3.11.5"
  }
 },
 "nbformat": 4,
 "nbformat_minor": 5
}
