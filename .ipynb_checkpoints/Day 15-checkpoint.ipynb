{
 "cells": [
  {
   "cell_type": "markdown",
   "id": "8abb439b",
   "metadata": {},
   "source": [
    "Binary Search is a highly efficient searching algorithm that works on sorted arrays. It divides the search space in half at each step, significantly reducing the number of comparisons needed to find the target element.\n",
    "\n",
    "Algorithm:\n",
    "\n",
    "Initialize: Set the left and right pointers to the beginning and end of the array, respectively.\n",
    "Check if the target is found: If the left pointer is greater than the right pointer, the target element is not present in the array.\n",
    "Calculate the middle index: Calculate the middle index of the current search space.\n",
    "Compare with target: Compare the element at the middle index with the target element.\n",
    "If they are equal, the target element is found.\n",
    "If the middle element is less than the target, the target element must be in the right half of the array. Update the left pointer to the middle index + 1.\n",
    "If the middle element is greater than the target, the target element must be in the left half of the array. Update the right pointer to the middle index - 1.\n",
    "Repeat: Repeat steps 2-4 until the target element is found or the left pointer becomes greater than the right pointer.\n",
    "\n",
    "Time Complexity:\n",
    "\n",
    "Worst case: O(log n) (when the target element is not present or is the last element)\n",
    "Best case: O(1) (when the target element is the middle element)\n",
    "Average case: O(log n)\n",
    "Space Complexity:\n",
    "\n",
    "O(1) (constant space)\n",
    "Advantages:\n",
    "\n",
    "Highly efficient for large sorted arrays due to its logarithmic time complexity.\n",
    "Can be used for searching elements in sorted data structures like arrays, vectors, and lists.\n",
    "Disadvantages:\n",
    "\n",
    "Requires the array to be sorted.\n",
    "Not suitable for unsorted arrays."
   ]
  },
  {
   "cell_type": "code",
   "execution_count": 1,
   "id": "a3a6b0a4",
   "metadata": {},
   "outputs": [
    {
     "name": "stdout",
     "output_type": "stream",
     "text": [
      "Element is present at index 3\n"
     ]
    }
   ],
   "source": [
    "def binary_search(arr, x):\n",
    "    low = 0\n",
    "    high = len(arr) - 1\n",
    "\n",
    "    while low <= high:\n",
    "        mid = (low + high) // 2\n",
    "\n",
    "        if arr[mid] == x:\n",
    "            return mid\n",
    "        elif arr[mid] < x:\n",
    "            low = mid + 1\n",
    "        else:\n",
    "            high = mid - 1\n",
    "\n",
    "    return -1\n",
    "\n",
    "# Example usage:\n",
    "arr = [2, 3, 4, 10, 40]\n",
    "x = 10\n",
    "\n",
    "# Function call\n",
    "result = binary_search(arr, x)\n",
    "\n",
    "if result != -1:\n",
    "    print(\"Element is present at index\", str(result))\n",
    "else:\n",
    "    print(\"Element is not present in array\")"
   ]
  },
  {
   "cell_type": "code",
   "execution_count": null,
   "id": "5d54d271",
   "metadata": {},
   "outputs": [],
   "source": []
  }
 ],
 "metadata": {
  "kernelspec": {
   "display_name": "Python 3 (ipykernel)",
   "language": "python",
   "name": "python3"
  },
  "language_info": {
   "codemirror_mode": {
    "name": "ipython",
    "version": 3
   },
   "file_extension": ".py",
   "mimetype": "text/x-python",
   "name": "python",
   "nbconvert_exporter": "python",
   "pygments_lexer": "ipython3",
   "version": "3.11.5"
  }
 },
 "nbformat": 4,
 "nbformat_minor": 5
}
