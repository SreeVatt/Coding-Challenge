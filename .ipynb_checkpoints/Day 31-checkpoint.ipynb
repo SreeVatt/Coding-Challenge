{
 "cells": [
  {
   "cell_type": "raw",
   "id": "46461698",
   "metadata": {},
   "source": [
    "N-Queens Problem:\n",
    "The 4 Queens Problem consists in placing four queens on a 4 x 4 chessboard so that no two queens attack each other. That is, no two queens are allowed to be placed on the same row, the same column or the same diagonal.\n",
    "\n"
   ]
  },
  {
   "cell_type": "code",
   "execution_count": 38,
   "id": "dad86551",
   "metadata": {},
   "outputs": [],
   "source": [
    "def printSol(board):\n",
    "    for i in range(N):\n",
    "        for j in range(N):\n",
    "            print('Q' if board[i][j]==1 else '.',end='\\t')\n",
    "        print('\\n')\n",
    "    "
   ]
  },
  {
   "cell_type": "code",
   "execution_count": 39,
   "id": "269ffaeb",
   "metadata": {},
   "outputs": [],
   "source": [
    "def SolvingQ(board,col):\n",
    "    if col>=N:\n",
    "        return True\n",
    "    for i in range(N):\n",
    "        if(ld[i-col+N-1]!=1 and rd[i+col]!=1)and cl[i]!=1:\n",
    "            board[i][col]=1\n",
    "            ld[i-col+N-1]=rd[i+col]=cl[i]=1\n",
    "            if SolvingQ(board,col+1):\n",
    "                return True\n",
    "            board[i][col]=0\n",
    "            ld[i-col+N-1]=rd[i+col]=cl[i]=0\n",
    "    return False\n"
   ]
  },
  {
   "cell_type": "code",
   "execution_count": 40,
   "id": "16194d30",
   "metadata": {},
   "outputs": [],
   "source": [
    "def solveNQ():\n",
    "    board=[[0 for _ in range(N)]for _ in range(N)]\n",
    "    \n",
    "    if not SolvingQ(board,0):\n",
    "        print(\"Solution doesn't exist\")\n",
    "        return False\n",
    "    \n",
    "    printSol(board)\n",
    "    return True"
   ]
  },
  {
   "cell_type": "code",
   "execution_count": 211,
   "id": "b3809765",
   "metadata": {},
   "outputs": [
    {
     "name": "stdout",
     "output_type": "stream",
     "text": [
      "Q\t.\t.\t.\t.\t.\t.\t.\t.\t.\t.\t.\t.\t.\t.\t.\t\n",
      "\n",
      ".\t.\t.\tQ\t.\t.\t.\t.\t.\t.\t.\t.\t.\t.\t.\t.\t\n",
      "\n",
      ".\tQ\t.\t.\t.\t.\t.\t.\t.\t.\t.\t.\t.\t.\t.\t.\t\n",
      "\n",
      ".\t.\t.\t.\t.\t.\t.\t.\t.\t.\t.\t.\tQ\t.\t.\t.\t\n",
      "\n",
      ".\t.\tQ\t.\t.\t.\t.\t.\t.\t.\t.\t.\t.\t.\t.\t.\t\n",
      "\n",
      ".\t.\t.\t.\t.\t.\t.\t.\t.\tQ\t.\t.\t.\t.\t.\t.\t\n",
      "\n",
      ".\t.\t.\t.\t.\t.\t.\t.\t.\t.\t.\tQ\t.\t.\t.\t.\t\n",
      "\n",
      ".\t.\t.\t.\t.\t.\t.\t.\t.\t.\t.\t.\t.\t.\tQ\t.\t\n",
      "\n",
      ".\t.\t.\t.\t.\tQ\t.\t.\t.\t.\t.\t.\t.\t.\t.\t.\t\n",
      "\n",
      ".\t.\t.\t.\t.\t.\t.\t.\t.\t.\t.\t.\t.\t.\t.\tQ\t\n",
      "\n",
      ".\t.\t.\t.\t.\t.\t.\t.\t.\t.\t.\t.\t.\tQ\t.\t.\t\n",
      "\n",
      ".\t.\t.\t.\t.\t.\t.\tQ\t.\t.\t.\t.\t.\t.\t.\t.\t\n",
      "\n",
      ".\t.\t.\t.\tQ\t.\t.\t.\t.\t.\t.\t.\t.\t.\t.\t.\t\n",
      "\n",
      ".\t.\t.\t.\t.\t.\tQ\t.\t.\t.\t.\t.\t.\t.\t.\t.\t\n",
      "\n",
      ".\t.\t.\t.\t.\t.\t.\t.\tQ\t.\t.\t.\t.\t.\t.\t.\t\n",
      "\n",
      ".\t.\t.\t.\t.\t.\t.\t.\t.\t.\tQ\t.\t.\t.\t.\t.\t\n",
      "\n"
     ]
    },
    {
     "data": {
      "text/plain": [
       "True"
      ]
     },
     "execution_count": 211,
     "metadata": {},
     "output_type": "execute_result"
    }
   ],
   "source": [
    "N=16\n",
    "ld=[0]*30\n",
    "rd=[0]*30\n",
    "cl=[0]*30\n",
    "solveNQ()"
   ]
  },
  {
   "cell_type": "raw",
   "id": "eb9a36fd",
   "metadata": {},
   "source": [
    "Find the shortest path to reach the destination node in the maze\n",
    "from the init node where 1 represents path and 0 represents the walls\n",
    "\n",
    "input:\n",
    "0,0\n",
    "3,3\n",
    "1 1 0 0\n",
    "0 1 1 0\n",
    "0 1 1 1\n",
    "0 0 1 1\n",
    "output:\n",
    "6\n",
    "\n"
   ]
  },
  {
   "cell_type": "code",
   "execution_count": 21,
   "id": "881dbef7",
   "metadata": {},
   "outputs": [],
   "source": [
    "from collections import deque"
   ]
  },
  {
   "cell_type": "code",
   "execution_count": 26,
   "id": "4792b257",
   "metadata": {},
   "outputs": [],
   "source": [
    "def short_path(n,m,source,destination,maze):\n",
    "    scol,srow=source\n",
    "    dcol,drow=destination\n",
    "    if maze[srow][scol]==0 or maze[drow][dcol]==0:\n",
    "        return -1\n",
    "    direction=[(-1,0),(1,0),(0,-1),(0,1)]\n",
    "    queue=deque([(srow,scol,0)])\n",
    "    visited=[[False for _ in range(m)]for _ in range(m)]\n",
    "    while queue:\n",
    "        row,col,path_length=queue.popleft()\n",
    "       \n",
    "        if(row,col)==(drow,dcol):\n",
    "            return path_length\n",
    "        for dr,dc in direction:\n",
    "            nrow,ncol=row+dr,col+dc\n",
    "            if(0<=nrow<n and 0<=ncol<m and not visited[nrow][ncol]and maze[nrow][ncol]==1):\n",
    "                queue.append((nrow,ncol,path_length+1))\n",
    "                visited[nrow][ncol]=True\n",
    "    return -1"
   ]
  },
  {
   "cell_type": "code",
   "execution_count": 31,
   "id": "d06dcac3",
   "metadata": {},
   "outputs": [
    {
     "name": "stdout",
     "output_type": "stream",
     "text": [
      "6\n"
     ]
    }
   ],
   "source": [
    "n=4\n",
    "m=4\n",
    "source=[0,0]\n",
    "destination=[3,3]\n",
    "maze=[[1,0,1,0],[1,1,1,0],[0,0,1,0],[0,0,1,1]]\n",
    "\n",
    "result=short_path(n,m,source,destination,maze)\n",
    "print(result)"
   ]
  }
 ],
 "metadata": {
  "kernelspec": {
   "display_name": "Python 3 (ipykernel)",
   "language": "python",
   "name": "python3"
  },
  "language_info": {
   "codemirror_mode": {
    "name": "ipython",
    "version": 3
   },
   "file_extension": ".py",
   "mimetype": "text/x-python",
   "name": "python",
   "nbconvert_exporter": "python",
   "pygments_lexer": "ipython3",
   "version": "3.11.5"
  }
 },
 "nbformat": 4,
 "nbformat_minor": 5
}
