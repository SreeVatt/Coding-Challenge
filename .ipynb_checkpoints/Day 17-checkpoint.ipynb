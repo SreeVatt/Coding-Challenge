{
 "cells": [
  {
   "cell_type": "markdown",
   "id": "5c955c3f",
   "metadata": {},
   "source": [
    "### 1. Single-linked list:\n",
    "In a singly linked list, each node contains a reference to the next node in the sequence. Traversing a singly linked list is done in a forward direction.\n"
   ]
  },
  {
   "cell_type": "code",
   "execution_count": 1,
   "id": "cb3cd047",
   "metadata": {},
   "outputs": [
    {
     "name": "stdout",
     "output_type": "stream",
     "text": [
      "3 -> 5 -> 13 -> 2 -> null\n"
     ]
    }
   ],
   "source": [
    "class Node:\n",
    "    def __init__(self, data):\n",
    "        self.data = data\n",
    "        self.next = None\n",
    "    \n",
    "node1 = Node(3)\n",
    "node2 = Node(5)\n",
    "node3 = Node(13)\n",
    "node4 = Node(2)\n",
    "\n",
    "node1.next = node2\n",
    "node2.next = node3\n",
    "node3.next = node4\n",
    "\n",
    "currentNode = node1\n",
    "while currentNode:\n",
    "    print(currentNode.data, end=\" -> \")\n",
    "    currentNode = currentNode.next\n",
    "print(\"null\")"
   ]
  },
  {
   "cell_type": "markdown",
   "id": "2f101c4a",
   "metadata": {},
   "source": [
    "### 2. Double-linked list:\n",
    "In a doubly linked list, each node contains references to both the next and previous nodes. This allows for traversal in both forward and backward directions, but it requires additional memory for the backward reference."
   ]
  },
  {
   "cell_type": "code",
   "execution_count": 2,
   "id": "725cbcba",
   "metadata": {},
   "outputs": [
    {
     "name": "stdout",
     "output_type": "stream",
     "text": [
      "\n",
      "Traversing forward:\n",
      "3 -> 5 -> 13 -> 2 -> null\n",
      "\n",
      "Traversing backward:\n",
      "2 -> 13 -> 5 -> 3 -> null\n"
     ]
    }
   ],
   "source": [
    "class Node:\n",
    "    def __init__(self, data):\n",
    "        self.data = data\n",
    "        self.next = None\n",
    "        self.prev = None\n",
    "    \n",
    "node1 = Node(3)\n",
    "node2 = Node(5)\n",
    "node3 = Node(13)\n",
    "node4 = Node(2)\n",
    "\n",
    "node1.next = node2\n",
    "\n",
    "node2.prev = node1\n",
    "node2.next = node3\n",
    "\n",
    "node3.prev = node2\n",
    "node3.next = node4\n",
    "\n",
    "node4.prev = node3\n",
    "\n",
    "print(\"\\nTraversing forward:\")\n",
    "currentNode = node1\n",
    "while currentNode:\n",
    "    print(currentNode.data, end=\" -> \")\n",
    "    currentNode = currentNode.next\n",
    "print(\"null\")\n",
    "\n",
    "print(\"\\nTraversing backward:\")\n",
    "currentNode = node4\n",
    "while currentNode:\n",
    "    print(currentNode.data, end=\" -> \")\n",
    "    currentNode = currentNode.prev\n",
    "print(\"null\")"
   ]
  },
  {
   "cell_type": "markdown",
   "id": "75a621d9",
   "metadata": {},
   "source": [
    "### 3. Circular linked list:\n",
    " In a circular linked list, the last node points back to the head node, creating a circular structure. It can be either singly or doubly linked."
   ]
  },
  {
   "cell_type": "code",
   "execution_count": 3,
   "id": "cda40ff5",
   "metadata": {},
   "outputs": [
    {
     "name": "stdout",
     "output_type": "stream",
     "text": [
      "3 -> 5 -> 13 -> 2 -> ...\n"
     ]
    }
   ],
   "source": [
    "class Node:\n",
    "    def __init__(self, data):\n",
    "        self.data = data\n",
    "        self.next = None\n",
    "    \n",
    "node1 = Node(3)\n",
    "node2 = Node(5)\n",
    "node3 = Node(13)\n",
    "node4 = Node(2)\n",
    "\n",
    "node1.next = node2\n",
    "node2.next = node3\n",
    "node3.next = node4\n",
    "node4.next = node1\n",
    "\n",
    "currentNode = node1\n",
    "startNode = node1\n",
    "print(currentNode.data, end=\" -> \") \n",
    "currentNode = currentNode.next \n",
    "\n",
    "while currentNode != startNode:\n",
    "    print(currentNode.data, end=\" -> \")\n",
    "    currentNode = currentNode.next\n",
    "\n",
    "print(\"...\")"
   ]
  },
  {
   "cell_type": "markdown",
   "id": "510e81b5",
   "metadata": {},
   "source": [
    "### 4. Circular Doubly Linked List Implementation"
   ]
  },
  {
   "cell_type": "code",
   "execution_count": 4,
   "id": "c1337a13",
   "metadata": {},
   "outputs": [
    {
     "name": "stdout",
     "output_type": "stream",
     "text": [
      "\n",
      "Traversing forward:\n",
      "3 -> 5 -> 13 -> 2 -> ...\n",
      "\n",
      "Traversing backward:\n",
      "2 -> 13 -> 5 -> 3 -> ...\n"
     ]
    }
   ],
   "source": [
    "class Node:\n",
    "    def __init__(self, data):\n",
    "        self.data = data\n",
    "        self.next = None\n",
    "        self.prev = None\n",
    "\n",
    "node1 = Node(3)\n",
    "node2 = Node(5)\n",
    "node3 = Node(13)\n",
    "node4 = Node(2)\n",
    "\n",
    "node1.next = node2\n",
    "node1.prev = node4\n",
    "\n",
    "node2.prev = node1\n",
    "node2.next = node3\n",
    "\n",
    "node3.prev = node2\n",
    "node3.next = node4\n",
    "\n",
    "node4.prev = node3\n",
    "node4.next = node1\n",
    "\n",
    "print(\"\\nTraversing forward:\")\n",
    "currentNode = node1\n",
    "startNode = node1\n",
    "print(currentNode.data, end=\" -> \")\n",
    "currentNode = currentNode.next\n",
    "\n",
    "while currentNode != startNode:\n",
    "    print(currentNode.data, end=\" -> \")\n",
    "    currentNode = currentNode.next\n",
    "print(\"...\")\n",
    "\n",
    "print(\"\\nTraversing backward:\")\n",
    "currentNode = node4\n",
    "startNode = node4\n",
    "print(currentNode.data, end=\" -> \")\n",
    "currentNode = currentNode.prev\n",
    "\n",
    "while currentNode != startNode:\n",
    "    print(currentNode.data, end=\" -> \")\n",
    "    currentNode = currentNode.prev\n",
    "print(\"...\")"
   ]
  },
  {
   "cell_type": "code",
   "execution_count": null,
   "id": "2f688fd2",
   "metadata": {},
   "outputs": [],
   "source": []
  }
 ],
 "metadata": {
  "kernelspec": {
   "display_name": "Python 3 (ipykernel)",
   "language": "python",
   "name": "python3"
  },
  "language_info": {
   "codemirror_mode": {
    "name": "ipython",
    "version": 3
   },
   "file_extension": ".py",
   "mimetype": "text/x-python",
   "name": "python",
   "nbconvert_exporter": "python",
   "pygments_lexer": "ipython3",
   "version": "3.11.5"
  }
 },
 "nbformat": 4,
 "nbformat_minor": 5
}
