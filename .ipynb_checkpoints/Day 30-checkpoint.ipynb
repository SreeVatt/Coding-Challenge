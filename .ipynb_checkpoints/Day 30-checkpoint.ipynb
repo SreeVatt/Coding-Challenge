{
 "cells": [
  {
   "cell_type": "raw",
   "id": "cec2bdc1",
   "metadata": {},
   "source": [
    "You are given the arrival and leaving times of n customers in a restaurant.\n",
    "What was the maximum number of customers in the restaurant at any time?\n",
    "Input\n",
    "The first input line has an integer n: the number of customers.\n",
    "After this, there are n lines that describe the customers. Each line has two integers a and b: the arrival and leaving times of a customer.\n",
    "You may assume that all arrival and leaving times are distinct.\n",
    "Output\n",
    "Print one integer: the maximum number of customers.\n",
    "Constraints\n",
    "\n",
    "1 \\le n \\le 2 \\cdot 10^5\n",
    "1 \\le a < b \\le 10^9\n",
    "\n",
    "Example\n",
    "Input:\n",
    "3\n",
    "5 8\n",
    "2 4\n",
    "3 9\n",
    "\n",
    "Output:\n",
    "2"
   ]
  },
  {
   "cell_type": "code",
   "execution_count": 19,
   "id": "92b46eda",
   "metadata": {},
   "outputs": [
    {
     "name": "stdout",
     "output_type": "stream",
     "text": [
      "3\n",
      "5 8\n",
      "2 4\n",
      "3 9\n",
      "2\n"
     ]
    }
   ],
   "source": [
    "a=[]\n",
    "b=[]\n",
    "n=int(input())\n",
    "for i in range(n):\n",
    "    A,B=input().split()\n",
    "    a.append(int(A))\n",
    "    b.append(int(B))\n",
    "count=0\n",
    "for i in range(n):\n",
    "    for j in range(i+1,n):\n",
    "        if((a[i]<=a[j]and b[i]<=b[j])or(a[i]<=b[j]and b[i]>=a[j])):#5 8 2\n",
    "            \n",
    "            count+=1\n",
    "            \n",
    "print(count)"
   ]
  },
  {
   "cell_type": "raw",
   "id": "34f273c4",
   "metadata": {},
   "source": [
    "In a movie festival n movies will be shown. You know the starting and ending time of each movie. What is the maximum number of movies you can watch entirely?\n",
    "Input\n",
    "The first input line has an integer n: the number of movies.\n",
    "After this, there are n lines that describe the movies. Each line has two integers a and b: the starting and ending times of a movie.\n",
    "Output\n",
    "Print one integer: the maximum number of movies.\n",
    "\n",
    "\n",
    "Example\n",
    "Input:\n",
    "3\n",
    "3 5\n",
    "4 9\n",
    "5 8\n",
    "\n",
    "Output:\n",
    "2"
   ]
  },
  {
   "cell_type": "code",
   "execution_count": 29,
   "id": "e94bc8ce",
   "metadata": {},
   "outputs": [
    {
     "name": "stdout",
     "output_type": "stream",
     "text": [
      "3\n",
      "3 5\n",
      "4 9\n",
      "5 8\n",
      "2\n"
     ]
    }
   ],
   "source": [
    "'''\n",
    "n movies will be shown\n",
    "the starting and ending is known\n",
    "max no of movie that can be watched\n",
    "\n",
    "n-> no of movies\n",
    "a,b->starting and ending of the movie\n",
    "'''\n",
    "a=[]\n",
    "b=[]\n",
    "n=int(input())\n",
    "for i in range(n):\n",
    "    A,B=input().split()\n",
    "    a.append(int(A))\n",
    "    b.append(int(B))\n",
    "count=0\n",
    "for i in range(n):\n",
    "    for j in range(i+1,n):#3 - > 5\n",
    "        if (b[i]>a[j] ):#5 8 2\n",
    "            count+=1\n",
    "            \n",
    "            \n",
    "print(count)"
   ]
  }
 ],
 "metadata": {
  "kernelspec": {
   "display_name": "Python 3 (ipykernel)",
   "language": "python",
   "name": "python3"
  },
  "language_info": {
   "codemirror_mode": {
    "name": "ipython",
    "version": 3
   },
   "file_extension": ".py",
   "mimetype": "text/x-python",
   "name": "python",
   "nbconvert_exporter": "python",
   "pygments_lexer": "ipython3",
   "version": "3.11.5"
  }
 },
 "nbformat": 4,
 "nbformat_minor": 5
}
