{
 "cells": [
  {
   "cell_type": "raw",
   "id": "3edf3036",
   "metadata": {},
   "source": [
    "Given an undirected graph and a number m, the task is to color the given graph with at most m colors such that no two adjacent vertices of the graph are colored with the same color\n",
    "\n",
    "Note: Here coloring of a graph means the assignment of colors to all vertices"
   ]
  },
  {
   "cell_type": "code",
   "execution_count": null,
   "id": "12bfc895",
   "metadata": {},
   "outputs": [],
   "source": [
    "class Graph():\n",
    "    def __init__(self,vertices):\n",
    "        self.V=vertices\n",
    "        self.graph=[[0 for column in range(vertices)]for row in range(vertices)]\n",
    "    \n",
    "    def isSafe(self,v,color,c):\n",
    "        for i in range(self.V):\n",
    "            if self.graph[v][i]==1 and color[i]==c:\n",
    "                return False\n",
    "        return True\n",
    "    def graphColorUtil(self,m,color,v):\n",
    "        if v==self.v:\n",
    "            return True\n",
    "        for c in range(1,m+1):\n",
    "            if v==self.v:\n",
    "                return True\n",
    "            "
   ]
  }
 ],
 "metadata": {
  "kernelspec": {
   "display_name": "Python 3 (ipykernel)",
   "language": "python",
   "name": "python3"
  },
  "language_info": {
   "codemirror_mode": {
    "name": "ipython",
    "version": 3
   },
   "file_extension": ".py",
   "mimetype": "text/x-python",
   "name": "python",
   "nbconvert_exporter": "python",
   "pygments_lexer": "ipython3",
   "version": "3.11.5"
  }
 },
 "nbformat": 4,
 "nbformat_minor": 5
}
