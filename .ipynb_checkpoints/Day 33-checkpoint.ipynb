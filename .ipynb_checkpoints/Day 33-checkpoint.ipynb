{
 "cells": [
  {
   "cell_type": "raw",
   "id": "e6eafe8f",
   "metadata": {},
   "source": [
    "You are in a book shop which sells n different books. You know the price and number of pages of each book.\n",
    "You have decided that the total price of your purchases will be at most x. What is the maximum number of pages you can buy? You can buy each book at most once.\n",
    "Input\n",
    "The first input line contains two integers n and x: the number of books and the maximum total price.\n",
    "The next line contains n integers h_1,h_2,\\ldots,h_n: the price of each book.\n",
    "The last line contains n integers s_1,s_2,\\ldots,s_n: the number of pages of each book.\n",
    "Output\n",
    "Print one integer: the maximum number of pages.\n",
    "Constraints\n",
    "\n",
    "1 \\le n \\le 1000\n",
    "1 \\le x \\le 10^5\n",
    "1 \\le h_i, s_i \\le 1000\n",
    "\n",
    "Example\n",
    "Input:\n",
    "4 10\n",
    "4 8 5 3\n",
    "5 12 8 1\n",
    "\n",
    "Output:\n",
    "13\n",
    "\n",
    "Explanation: You can buy books 1 and 3. Their price is 4+5=9 and the number of pages is 5+8=13."
   ]
  },
  {
   "cell_type": "code",
   "execution_count": 22,
   "id": "3dcdcbee",
   "metadata": {},
   "outputs": [
    {
     "name": "stdout",
     "output_type": "stream",
     "text": [
      "15\n"
     ]
    }
   ],
   "source": [
    "'''\n",
    "n diff books\n",
    "price and no of pages\n",
    "x- total price of purchase\n",
    "whats the max no of pages you can but\n",
    "Input:\n",
    "n,x->no of books,max total price\n",
    "h1,h2,h3..hn->price of each book\n",
    "s1,s2,....sn->no of pages in each book\n",
    "\n",
    "\n",
    "\n",
    "'''\n",
    "         \n",
    "            \n",
    "n=4\n",
    "x=10\n",
    "H=[4,8,5,3,1]\n",
    "S=[5,12,8,1,3]\n",
    "i=0\n",
    "j=0\n",
    "pages=[]\n",
    "while(i<n):\n",
    "    while(j<n):\n",
    "        if(H[i]+H[j]<=x and i!=j):\n",
    "            cost=H[i]+H[j]\n",
    "            page=S[i]+S[j]\n",
    "            H.append(cost)\n",
    "            S.append(page)\n",
    "            pages.append(page)\n",
    "            \n",
    "        j+=1\n",
    "    n=len(H)\n",
    "    i+=1\n",
    "    \n",
    "\n",
    "print(max(pages))\n",
    "\n",
    "        "
   ]
  }
 ],
 "metadata": {
  "kernelspec": {
   "display_name": "Python 3 (ipykernel)",
   "language": "python",
   "name": "python3"
  },
  "language_info": {
   "codemirror_mode": {
    "name": "ipython",
    "version": 3
   },
   "file_extension": ".py",
   "mimetype": "text/x-python",
   "name": "python",
   "nbconvert_exporter": "python",
   "pygments_lexer": "ipython3",
   "version": "3.11.5"
  }
 },
 "nbformat": 4,
 "nbformat_minor": 5
}
