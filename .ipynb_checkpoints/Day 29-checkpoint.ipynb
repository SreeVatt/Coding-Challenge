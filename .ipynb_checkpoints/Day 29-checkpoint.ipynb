{
 "cells": [
  {
   "cell_type": "raw",
   "id": "8bfdf7a2",
   "metadata": {},
   "source": [
    "There are n children who want to go to a Ferris wheel, and your task is to find a gondola for each child.\n",
    "Each gondola may have one or two children in it, and in addition, the total weight in a gondola may not exceed x. You know the weight of every child.\n",
    "What is the minimum number of gondolas needed for the children?\n",
    "Input\n",
    "The first input line contains two integers n and x: the number of children and the maximum allowed weight.\n",
    "The next line contains n integers p_1,p_2,\\ldots,p_n: the weight of each child.\n",
    "Output\n",
    "Print one integer: the minimum number of gondolas.\n",
    "Constraints\n",
    "\n",
    "1 \\le n \\le 2 \\cdot 10^5\n",
    "1 \\le x \\le 10^9\n",
    "1 \\le p_i \\le x\n",
    "\n",
    "Example\n",
    "Input:\n",
    "4 10\n",
    "7 2 3 9\n",
    "\n",
    "Output:\n",
    "3"
   ]
  },
  {
   "cell_type": "code",
   "execution_count": 23,
   "id": "a5b0ae5b",
   "metadata": {},
   "outputs": [
    {
     "name": "stdout",
     "output_type": "stream",
     "text": [
      "4 10\n",
      "7\n",
      "2\n",
      "3\n",
      "9\n",
      "4\n"
     ]
    }
   ],
   "source": [
    "'''\n",
    "N-> Child\n",
    "1/2child in Gondola\n",
    "X->Gondola max wt \n",
    "output-> minimum Gondola req\n",
    "\n",
    "n,x->childern, max wt\n",
    "w1,w2,wn->wt of childeren\n",
    "\n",
    "Input:\n",
    "4 10\n",
    "7 2 3 9\n",
    "\n",
    "Output:\n",
    "3\n",
    "\n",
    "\n",
    "sort 2 3 7 9\n",
    "\n",
    "2+9=11 X +1\n",
    "3+7=10 0\n",
    "\n",
    "5 10\n",
    "8 1 6 2 3\n",
    "1 2 3 6 8\n",
    "\n",
    "\n",
    "'''\n",
    "\n",
    "n,x=input().split()\n",
    "wt=[]\n",
    "for i in range(int(n)):\n",
    "    inp=int(input())\n",
    "    wt.append(inp)\n",
    "    \n",
    "wt.sort()\n",
    "count=0\n",
    "\n",
    "\n",
    "for i in range(int(n)): #7 2 3 9 - > 2 3 7 9\n",
    "    if(wt[i]+wt[int(n)-1-i]<=10): #11 10 10 11\n",
    "        count+=1\n",
    "    else:\n",
    "        count+=1\n",
    "    \n",
    "\n",
    "print(count)\n",
    "\n",
    "    "
   ]
  },
  {
   "cell_type": "code",
   "execution_count": 12,
   "id": "371c1373",
   "metadata": {},
   "outputs": [
    {
     "ename": "TypeError",
     "evalue": "can only concatenate list (not \"int\") to list",
     "output_type": "error",
     "traceback": [
      "\u001b[1;31m---------------------------------------------------------------------------\u001b[0m",
      "\u001b[1;31mTypeError\u001b[0m                                 Traceback (most recent call last)",
      "Cell \u001b[1;32mIn[12], line 1\u001b[0m\n\u001b[1;32m----> 1\u001b[0m x\u001b[38;5;241m=\u001b[39m[\u001b[38;5;241m1\u001b[39m,\u001b[38;5;241m3\u001b[39m]\u001b[38;5;241m+\u001b[39m\u001b[38;5;241m3\u001b[39m\n\u001b[0;32m      2\u001b[0m \u001b[38;5;28mprint\u001b[39m(x)\n",
      "\u001b[1;31mTypeError\u001b[0m: can only concatenate list (not \"int\") to list"
     ]
    }
   ],
   "source": []
  },
  {
   "cell_type": "raw",
   "id": "565a5af6",
   "metadata": {},
   "source": [
    "There are n concert tickets available, each with a certain price. Then, m customers arrive, one after another.\n",
    "Each customer announces the maximum price they are willing to pay for a ticket, and after this, they will get a ticket with the nearest possible price such that it does not exceed the maximum price.\n",
    "Input\n",
    "The first input line contains integers n and m: the number of tickets and the number of customers.\n",
    "The next line contains n integers h_1,h_2,\\ldots,h_n: the price of each ticket.\n",
    "The last line contains m integers t_1,t_2,\\ldots,t_m: the maximum price for each customer in the order they arrive.\n",
    "Output\n",
    "Print, for each customer, the price that they will pay for their ticket. After this, the ticket cannot be purchased again.\n",
    "If a customer cannot get any ticket, print -1.\n",
    "Constraints\n",
    "\n",
    "1 \\le n, m \\le 2 \\cdot 10^5\n",
    "1 \\le h_i, t_i \\le 10^9\n",
    "\n",
    "Example\n",
    "Input:\n",
    "5 3\n",
    "5 3 7 8 5\n",
    "4 8 3\n",
    "\n",
    "Output:\n",
    "3\n",
    "8\n",
    "-1"
   ]
  }
 ],
 "metadata": {
  "kernelspec": {
   "display_name": "Python 3 (ipykernel)",
   "language": "python",
   "name": "python3"
  },
  "language_info": {
   "codemirror_mode": {
    "name": "ipython",
    "version": 3
   },
   "file_extension": ".py",
   "mimetype": "text/x-python",
   "name": "python",
   "nbconvert_exporter": "python",
   "pygments_lexer": "ipython3",
   "version": "3.11.5"
  }
 },
 "nbformat": 4,
 "nbformat_minor": 5
}
