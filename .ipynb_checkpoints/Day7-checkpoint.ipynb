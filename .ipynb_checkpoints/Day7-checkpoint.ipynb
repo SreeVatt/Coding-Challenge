{
 "cells": [
  {
   "cell_type": "markdown",
   "id": "ffdf70a0",
   "metadata": {},
   "source": [
    "You have write a function that accepts, a string which length is “len”, the string has some “#”, in it you have to move all the hashes to the front of the string and return the whole string back and print it.\n",
    "Sample Test Case\n",
    "\n",
    "Input:\n",
    "\n",
    "Move#Hash#to#Front\n",
    "\n",
    "Output:\n",
    "\n",
    "###MoveHashtoFront\n",
    "\n"
   ]
  },
  {
   "cell_type": "code",
   "execution_count": 2,
   "id": "5adda533",
   "metadata": {},
   "outputs": [
    {
     "name": "stdout",
     "output_type": "stream",
     "text": [
      "Move#Hash#to#Front\n",
      "###MoveHashtoFront\n"
     ]
    }
   ],
   "source": [
    "def swap(string):\n",
    "    words=''\n",
    "    hasht=0\n",
    "    for i in string:\n",
    "        if(i=='#'):\n",
    "            hasht=hasht+1\n",
    "        else:\n",
    "            words=words+i\n",
    "            \n",
    "    return('#'*hasht+words)\n",
    "    \n",
    "inp=input()\n",
    "print(swap(inp))"
   ]
  },
  {
   "cell_type": "code",
   "execution_count": null,
   "id": "20b9e5e8",
   "metadata": {},
   "outputs": [],
   "source": [
    "    "
   ]
  }
 ],
 "metadata": {
  "kernelspec": {
   "display_name": "Python 3 (ipykernel)",
   "language": "python",
   "name": "python3"
  },
  "language_info": {
   "codemirror_mode": {
    "name": "ipython",
    "version": 3
   },
   "file_extension": ".py",
   "mimetype": "text/x-python",
   "name": "python",
   "nbconvert_exporter": "python",
   "pygments_lexer": "ipython3",
   "version": "3.11.5"
  }
 },
 "nbformat": 4,
 "nbformat_minor": 5
}
