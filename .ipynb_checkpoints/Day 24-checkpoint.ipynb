{
 "cells": [
  {
   "cell_type": "markdown",
   "id": "1e566ad0",
   "metadata": {},
   "source": [
    "### MERGE SORT"
   ]
  },
  {
   "cell_type": "code",
   "execution_count": 31,
   "id": "706bac10",
   "metadata": {},
   "outputs": [],
   "source": [
    "def Merge_Sort(arr):\n",
    "    if len(arr)>1:\n",
    "        q=(len(arr))//2\n",
    "\n",
    "        L=arr[:q]\n",
    "        R=arr[q:]\n",
    "        Merge_Sort(L)\n",
    "        Merge_Sort(R)\n",
    "\n",
    "        i=j=k=0\n",
    "\n",
    "        while (i<len(L) and j<len(R)):\n",
    "            if L[i]<R[j]:\n",
    "                arr[k]=L[i]\n",
    "                i+=1\n",
    "            else:\n",
    "                arr[k]=R[j]\n",
    "                j+=1\n",
    "            k+=1\n",
    "\n",
    "        while i<len(L):\n",
    "            arr[k]=L[i]\n",
    "            i+=1\n",
    "            k+=1\n",
    "\n",
    "        while j<len(R):\n",
    "            arr[k]=R[j]\n",
    "            j+=1\n",
    "            k+=1\n",
    "\n",
    "        \n"
   ]
  },
  {
   "cell_type": "code",
   "execution_count": 35,
   "id": "37dc7cf9",
   "metadata": {},
   "outputs": [
    {
     "name": "stdout",
     "output_type": "stream",
     "text": [
      "[10, 27, 38, 43, 95]\n"
     ]
    }
   ],
   "source": [
    "arr=[38,27,43,10,95]\n",
    "Merge_Sort(arr)\n",
    "print(arr)"
   ]
  }
 ],
 "metadata": {
  "kernelspec": {
   "display_name": "Python 3 (ipykernel)",
   "language": "python",
   "name": "python3"
  },
  "language_info": {
   "codemirror_mode": {
    "name": "ipython",
    "version": 3
   },
   "file_extension": ".py",
   "mimetype": "text/x-python",
   "name": "python",
   "nbconvert_exporter": "python",
   "pygments_lexer": "ipython3",
   "version": "3.11.5"
  }
 },
 "nbformat": 4,
 "nbformat_minor": 5
}
