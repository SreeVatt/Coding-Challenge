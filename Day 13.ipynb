{
 "cells": [
  {
   "cell_type": "markdown",
   "id": "d1fa626d",
   "metadata": {},
   "source": [
    "Insertion Sort is a simple sorting algorithm that works by repeatedly inserting elements into their correct positions in the sorted part of the array. It's efficient for small lists and can be used as a hybrid sorting algorithm with other algorithms like Quicksort or Mergesort.\n",
    "\n",
    "Algorithm:\n",
    "\n",
    "Iterate through the array: Starting from the second element (index 1), iterate through each element.\n",
    "Insert the current element:\n",
    "Store the current element: Save the current element in a temporary variable.\n",
    "Shift elements to the right: Starting from the previous element, shift elements to the right as long as they are greater than the current element.\n",
    "Insert the current element: Insert the current element into the correct position.\n",
    "\n",
    "Time Complexity:\n",
    "\n",
    "Worst case: O(n^2)\n",
    "Best case: O(n) (when the list is already sorted)\n",
    "Average case: O(n^2)\n",
    "Space Complexity:\n",
    "\n",
    "O(1) (in-place sorting)\n",
    "Advantages:\n",
    "\n",
    "Simple to understand and implement.\n",
    "Efficient for small lists.\n",
    "Stable (preserves the relative order of equal elements).\n",
    "Can be used as a hybrid sorting algorithm with other algorithms like Quicksort or Mergesort."
   ]
  },
  {
   "cell_type": "code",
   "execution_count": 1,
   "id": "92bcd7cc",
   "metadata": {},
   "outputs": [
    {
     "name": "stdout",
     "output_type": "stream",
     "text": [
      "Sorted array:\n",
      "[11, 12, 22, 25, 34, 64, 90]\n"
     ]
    }
   ],
   "source": [
    "def insertion_sort(arr):\n",
    "    n = len(arr)\n",
    "\n",
    "    # Traverse through 1 to n\n",
    "    for i in range(1, n):\n",
    "\n",
    "        key = arr[i]\n",
    "\n",
    "        # Move elements of arr[0..i-1], that are greater than key, to one position ahead of their current position\n",
    "        j = i - 1\n",
    "        while j >= 0 and arr[j] > key:\n",
    "            arr[j + 1] = arr[j]\n",
    "            j -= 1\n",
    "\n",
    "        arr[j + 1] = key\n",
    "\n",
    "# Example usage:\n",
    "arr = [64, 34, 25, 12, 22, 11, 90]\n",
    "insertion_sort(arr)\n",
    "\n",
    "print(\"Sorted array:\")\n",
    "print(arr)"
   ]
  },
  {
   "cell_type": "code",
   "execution_count": null,
   "id": "2b763e6c",
   "metadata": {},
   "outputs": [],
   "source": []
  }
 ],
 "metadata": {
  "kernelspec": {
   "display_name": "Python 3 (ipykernel)",
   "language": "python",
   "name": "python3"
  },
  "language_info": {
   "codemirror_mode": {
    "name": "ipython",
    "version": 3
   },
   "file_extension": ".py",
   "mimetype": "text/x-python",
   "name": "python",
   "nbconvert_exporter": "python",
   "pygments_lexer": "ipython3",
   "version": "3.11.5"
  }
 },
 "nbformat": 4,
 "nbformat_minor": 5
}
